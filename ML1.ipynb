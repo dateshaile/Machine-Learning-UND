{
 "cells": [
  {
   "cell_type": "code",
   "execution_count": 7,
   "metadata": {
    "collapsed": false
   },
   "outputs": [
    {
     "data": {
      "text/plain": [
       "1.4142135623730951"
      ]
     },
     "execution_count": 7,
     "metadata": {},
     "output_type": "execute_result"
    }
   ],
   "source": [
    "import numpy as np\n",
    "\n",
    "numbers = [1,2,3,4,5]\n",
    "#np.mean(numbers)\n",
    "#np.median(numbers)\n",
    "np.std(numbers)"
   ]
  },
  {
   "cell_type": "code",
   "execution_count": 8,
   "metadata": {
    "collapsed": false
   },
   "outputs": [
    {
     "name": "stdout",
     "output_type": "stream",
     "text": [
      "[ 1.  4.  5.  8.]\n",
      "\n",
      "[[ 1.  2.  3.]\n",
      " [ 4.  5.  6.]]\n"
     ]
    }
   ],
   "source": [
    "if True:\n",
    "    array = np.array([1, 4, 5, 8], float)\n",
    "    print array\n",
    "    print \"\"\n",
    "    array = np.array([[1, 2, 3], [4, 5, 6]], float)  # a 2D array/Matrix\n",
    "    print array\n"
   ]
  },
  {
   "cell_type": "code",
   "execution_count": 11,
   "metadata": {
    "collapsed": false
   },
   "outputs": [
    {
     "name": "stdout",
     "output_type": "stream",
     "text": [
      "[ 1.  4.  5.  8.]\n",
      "\n",
      "4.0\n",
      "\n",
      "[ 1.  4.]\n",
      "\n",
      "5.0\n"
     ]
    }
   ],
   "source": [
    "if True:\n",
    "    array = np.array([1, 4, 5, 8], float)\n",
    "    print array\n",
    "    print \"\"\n",
    "    print array[1]\n",
    "    print \"\"\n",
    "    print array[:2]\n",
    "    print \"\"\n",
    "    array[2] = 5.0\n",
    "    print array[2]"
   ]
  },
  {
   "cell_type": "code",
   "execution_count": 12,
   "metadata": {
    "collapsed": false
   },
   "outputs": [
    {
     "name": "stdout",
     "output_type": "stream",
     "text": [
      "[[ 1.  2.  3.]\n",
      " [ 4.  5.  6.]]\n",
      "\n",
      "5.0\n",
      "\n",
      "[ 4.  5.  6.]\n",
      "\n",
      "[ 3.  6.]\n"
     ]
    }
   ],
   "source": [
    "if True:\n",
    "    two_D_array = np.array([[1, 2, 3], [4, 5, 6]], float)\n",
    "    print two_D_array\n",
    "    print \"\"\n",
    "    print two_D_array[1][1]\n",
    "    print \"\"\n",
    "    print two_D_array[1, :]\n",
    "    print \"\"\n",
    "    print two_D_array[:, 2]"
   ]
  },
  {
   "cell_type": "code",
   "execution_count": 13,
   "metadata": {
    "collapsed": false
   },
   "outputs": [
    {
     "name": "stdout",
     "output_type": "stream",
     "text": [
      "[ 6.  4.  9.]\n",
      "\n",
      "[-4.  0. -3.]\n",
      "\n",
      "[  5.   4.  18.]\n"
     ]
    }
   ],
   "source": [
    "if True:\n",
    "    array_1 = np.array([1, 2, 3], float)\n",
    "    array_2 = np.array([5, 2, 6], float)\n",
    "    print array_1 + array_2\n",
    "    print \"\"\n",
    "    print array_1 - array_2\n",
    "    print \"\"\n",
    "    print array_1 * array_2\n"
   ]
  },
  {
   "cell_type": "code",
   "execution_count": 14,
   "metadata": {
    "collapsed": false
   },
   "outputs": [
    {
     "name": "stdout",
     "output_type": "stream",
     "text": [
      "2.0\n",
      "7.0\n",
      "\n",
      "[ 44.]\n"
     ]
    }
   ],
   "source": [
    "if True:\n",
    "    array_1 = np.array([1, 2, 3], float)\n",
    "    array_2 = np.array([[6], [7], [8]], float)\n",
    "    print np.mean(array_1)\n",
    "    print np.mean(array_2)\n",
    "    print \"\"\n",
    "    print np.dot(array_1, array_2)\n"
   ]
  },
  {
   "cell_type": "code",
   "execution_count": 18,
   "metadata": {
    "collapsed": false
   },
   "outputs": [
    {
     "name": "stdout",
     "output_type": "stream",
     "text": [
      "   age name\n",
      "a    2    A\n",
      "b    4    B\n",
      "c    5    C\n"
     ]
    }
   ],
   "source": [
    "from pandas import Series, DataFrame\n",
    "d = {'name': Series(['A', 'B', 'C'], index = ['a', 'b', 'c']), \n",
    "    'age': Series([2, 4, 5], index = ['a', 'b', 'c'])}\n",
    "df = DataFrame(d)\n",
    "print df"
   ]
  },
  {
   "cell_type": "code",
   "execution_count": 1,
   "metadata": {
    "collapsed": false
   },
   "outputs": [
    {
     "name": "stdout",
     "output_type": "stream",
     "text": [
      "0         Dave\n",
      "1    Cheng-Han\n",
      "2      Udacity\n",
      "3           42\n",
      "4    123456789\n",
      "dtype: object\n"
     ]
    }
   ],
   "source": [
    "import pandas as pd\n",
    "\n",
    "if True:\n",
    "    series = pd.Series(['Dave', 'Cheng-Han', 'Udacity', 42, 123456789])\n",
    "    print series"
   ]
  },
  {
   "cell_type": "code",
   "execution_count": 3,
   "metadata": {
    "collapsed": false
   },
   "outputs": [
    {
     "name": "stdout",
     "output_type": "stream",
     "text": [
      "Instructor                 Dave\n",
      "Curriculum-Manager    Cheng-Han\n",
      "Course-level                 42\n",
      "Power-level           123456789\n",
      "dtype: object\n"
     ]
    }
   ],
   "source": [
    "if True:\n",
    "    series = pd.Series(['Dave', 'Cheng-Han', 42, 123456789], index=['Instructor', 'Curriculum-Manager', 'Course-level', 'Power-level'])\n",
    "    print series\n",
    "    "
   ]
  },
  {
   "cell_type": "code",
   "execution_count": 6,
   "metadata": {
    "collapsed": false
   },
   "outputs": [
    {
     "name": "stdout",
     "output_type": "stream",
     "text": [
      "Fish      False\n",
      "Pig       False\n",
      "Kitten    False\n",
      "Puppy      True\n",
      "Dog        True\n",
      "dtype: bool\n",
      "-----------\n",
      "Puppy    4\n",
      "Dog      5\n",
      "dtype: int64\n"
     ]
    }
   ],
   "source": [
    "if True:\n",
    "    cuteness = pd.Series([1,2,3,4,5], index=['Fish', 'Pig', 'Kitten', 'Puppy', 'Dog'])\n",
    "    print cuteness > 3\n",
    "    print \"-----------\"\n",
    "    print cuteness[cuteness>3]"
   ]
  },
  {
   "cell_type": "markdown",
   "metadata": {},
   "source": [
    "# Data Frame"
   ]
  },
  {
   "cell_type": "code",
   "execution_count": 18,
   "metadata": {
    "collapsed": false
   },
   "outputs": [
    {
     "name": "stdout",
     "output_type": "stream",
     "text": [
      "   Losses     Team  Wins  Year\n",
      "0       5    Bears    11  2010\n",
      "1       8    Bears     8  2011\n",
      "2       6    Bears    10  2012\n",
      "3       1  Packers    15  2011\n",
      "4       5  Packers    11  2010\n",
      "5      10    Lions     6  2011\n",
      "6       6    Lions    10  2012\n",
      "7      12    Lions     4  2011\n",
      "--------------------\n",
      "          Losses       Wins         Year\n",
      "count   8.000000   8.000000     8.000000\n",
      "mean    6.625000   9.375000  2011.000000\n",
      "std     3.377975   3.377975     0.755929\n",
      "min     1.000000   4.000000  2010.000000\n",
      "25%     5.000000   7.500000  2010.750000\n",
      "50%     6.000000  10.000000  2011.000000\n",
      "75%     8.500000  11.000000  2011.250000\n",
      "max    12.000000  15.000000  2012.000000\n",
      "---------------------\n"
     ]
    }
   ],
   "source": [
    "import numpy as np\n",
    "import pandas as pd\n",
    "\n",
    "if True:\n",
    "    data = {'Year' : [2010, 2011, 2012, 2011, 2010, 2011, 2012, 2011],\n",
    "            'Team' : ['Bears', 'Bears', 'Bears', 'Packers', 'Packers', 'Lions', 'Lions', 'Lions'],\n",
    "            'Wins' :[11, 8, 10, 15, 11, 6, 10, 4],\n",
    "             'Losses' : [5, 8, 6, 1, 5, 10, 6, 12]}\n",
    "    football = pd.DataFrame(data)\n",
    "    print football\n",
    "    \n",
    "    print \"--------------------\"\n",
    "    \n",
    "    print football.describe()\n",
    "    \n",
    "    print \"---------------------\""
   ]
  },
  {
   "cell_type": "code",
   "execution_count": 20,
   "metadata": {
    "collapsed": false
   },
   "outputs": [
    {
     "name": "stdout",
     "output_type": "stream",
     "text": [
      "   Age   Name\n",
      "0   28  Sarah\n",
      "1   46  Chris\n",
      "2   19   Alem\n"
     ]
    }
   ],
   "source": [
    "from pandas import DataFrame, Series\n",
    "\n",
    "people = ['Sarah', 'Chris', 'Alem']\n",
    "ages = [28, 46, 19]\n",
    "\n",
    "df = DataFrame({'Name' : Series(people),\n",
    "                'Age' : Series(ages)})\n",
    "\n",
    "print df"
   ]
  },
  {
   "cell_type": "code",
   "execution_count": 24,
   "metadata": {
    "collapsed": false
   },
   "outputs": [
    {
     "name": "stdout",
     "output_type": "stream",
     "text": [
      "0    2010\n",
      "1    2011\n",
      "2    2012\n",
      "3    2011\n",
      "4    2012\n",
      "5    2010\n",
      "6    2011\n",
      "7    2012\n",
      "Name: year, dtype: int64\n",
      "\n",
      "0    2010\n",
      "1    2011\n",
      "2    2012\n",
      "3    2011\n",
      "4    2012\n",
      "5    2010\n",
      "6    2011\n",
      "7    2012\n",
      "Name: year, dtype: int64\n",
      "\n",
      "   year  wins  losses\n",
      "0  2010    11       5\n",
      "1  2011     8       8\n",
      "2  2012    10       6\n",
      "3  2011    15       1\n",
      "4  2012    11       5\n",
      "5  2010     6      10\n",
      "6  2011    10       6\n",
      "7  2012     4      12\n"
     ]
    }
   ],
   "source": [
    "if True:\n",
    "    data = {'year': [2010, 2011, 2012, 2011, 2012, 2010, 2011, 2012],\n",
    "            'team': ['Bears', 'Bears', 'Bears', 'Packers', 'Packers', 'Lions',\n",
    "                     'Lions', 'Lions'],\n",
    "            'wins': [11, 8, 10, 15, 11, 6, 10, 4],\n",
    "            'losses': [5, 8, 6, 1, 5, 10, 6, 12]}\n",
    "    football = pd.DataFrame(data)\n",
    "    print football['year']\n",
    "    print ''\n",
    "    print football.year  # shorthand for football['year']\n",
    "    print ''\n",
    "    print football[['year', 'wins', 'losses']]\n"
   ]
  },
  {
   "cell_type": "code",
   "execution_count": 26,
   "metadata": {
    "collapsed": false
   },
   "outputs": [
    {
     "name": "stdout",
     "output_type": "stream",
     "text": [
      "   losses   team  wins  year\n",
      "0       5  Bears    11  2010\n",
      "_________________\n",
      "   losses   team  wins  year\n",
      "0       5  Bears    11  2010\n",
      "--------------------\n",
      "   losses     team  wins  year\n",
      "3       1  Packers    15  2011\n",
      "4       5  Packers    11  2012\n",
      "_____________________\n",
      "   losses     team  wins  year\n",
      "0       5    Bears    11  2010\n",
      "3       1  Packers    15  2011\n",
      "4       5  Packers    11  2012\n",
      "----------------------\n",
      "   losses     team  wins  year\n",
      "3       1  Packers    15  2011\n",
      "4       5  Packers    11  2012\n"
     ]
    }
   ],
   "source": [
    "if True:\n",
    "    data = {'year': [2010, 2011, 2012, 2011, 2012, 2010, 2011, 2012],\n",
    "            'team': ['Bears', 'Bears', 'Bears', 'Packers', 'Packers', 'Lions',\n",
    "                     'Lions', 'Lions'],\n",
    "            'wins': [11, 8, 10, 15, 11, 6, 10, 4],\n",
    "            'losses': [5, 8, 6, 1, 5, 10, 6, 12]}\n",
    "    football = pd.DataFrame(data)\n",
    "    print football.iloc[[0]]\n",
    "    print \"_________________\"\n",
    "    print football.loc[[0]]\n",
    "    print \"--------------------\"\n",
    "    print football[3:5]\n",
    "    print \"_____________________\"\n",
    "    print football[football.wins > 10]\n",
    "    print \"----------------------\"\n",
    "    print football[(football.wins > 10) & (football.team == \"Packers\")]\n"
   ]
  },
  {
   "cell_type": "markdown",
   "metadata": {},
   "source": [
    "# Numpy"
   ]
  },
  {
   "cell_type": "code",
   "execution_count": 39,
   "metadata": {
    "collapsed": false
   },
   "outputs": [
    {
     "name": "stderr",
     "output_type": "stream",
     "text": [
      "/home/dawit/anaconda2/lib/python2.7/site-packages/matplotlib/font_manager.py:273: UserWarning: Matplotlib is building the font cache using fc-list. This may take a moment.\n",
      "  warnings.warn('Matplotlib is building the font cache using fc-list. This may take a moment.')\n"
     ]
    },
    {
     "name": "stdout",
     "output_type": "stream",
     "text": [
      "[[ 0  1  2  3  4]\n",
      " [ 5  6  7  8  9]\n",
      " [10 11 12 13 14]]\n",
      "--------------\n",
      "(3, 5)\n",
      "----------------\n",
      "2\n",
      "=========================\n"
     ]
    },
    {
     "data": {
      "image/png": "[encoded data removed]",
      "text/plain": [
       "<matplotlib.figure.Figure at 0x7f142e20bc50>"
      ]
     },
     "metadata": {},
     "output_type": "display_data"
    }
   ],
   "source": [
    "import numpy as np\n",
    "import matplotlib.pyplot as plt\n",
    "\n",
    "a = np.arange(15).reshape(3, 5)\n",
    "print (a)\n",
    "\n",
    "print \"--------------\"\n",
    "\n",
    "print a.shape\n",
    "\n",
    "print\"----------------\"\n",
    "\n",
    "print a.ndim\n",
    "\n",
    "\n",
    "print\"=========================\"\n",
    "\n",
    "x = np.linspace(0, 2**np.pi, 100)\n",
    "f = np.sin(x)\n",
    "\n",
    "plt.plot(x, f)\n",
    "plt.ylabel('some numbers')\n",
    "plt.show()"
   ]
  },
  {
   "cell_type": "markdown",
   "metadata": {},
   "source": [
    "# Scikit-learn"
   ]
  },
  {
   "cell_type": "code",
   "execution_count": 33,
   "metadata": {
    "collapsed": true
   },
   "outputs": [],
   "source": [
    "from sklearn import datasets   #sklearn comes with variety of preload datasets\n",
    "from sklearn import metrics   #calculate how the model is doing \n",
    "from sklearn.linear_model import LinearRegression"
   ]
  },
  {
   "cell_type": "code",
   "execution_count": 34,
   "metadata": {
    "collapsed": true
   },
   "outputs": [],
   "source": [
    "#Load the dataset \n",
    "housing_data = datasets.load_boston()\n",
    "linear_regression_model = LinearRegression()\n",
    "\n",
    "#housing_data.data is our feature set\n",
    "#housing_data.target is the labels we are trying to predict\n",
    "\n",
    "linear_regression_model.fit(housing_data.data, housing_data.target)\n",
    "\n",
    "# once our model is fit, we make our predictions as follows\n",
    "\n",
    "predictions = linear_regression_model.predict(housing_data.data)\n",
    "\n",
    "score = metrics.r2_score(housing_data.target, predictions)"
   ]
  },
  {
   "cell_type": "code",
   "execution_count": null,
   "metadata": {
    "collapsed": false
   },
   "outputs": [],
   "source": [
    "#from sklearn.naive_bayes import GaussianNB\n",
    "#clf = GaussianNB()\n",
    "#clf.fit(features_train, labels_train)\n",
    "#pred = clf.predict(features_test)"
   ]
  },
  {
   "cell_type": "markdown",
   "metadata": {},
   "source": [
    "## Encoding using sklearn"
   ]
  },
  {
   "cell_type": "code",
   "execution_count": 4,
   "metadata": {
    "collapsed": false
   },
   "outputs": [
    {
     "name": "stdout",
     "output_type": "stream",
     "text": [
      "   health  name\n",
      "0     fit   Ray\n",
      "1    slim  Dave\n",
      "2  obesse   Jon\n",
      "3    slim  Xiao\n",
      "4     fit  Alem\n",
      "[0 2 1 2 0]\n",
      "[0 2 1 2 0]\n"
     ]
    }
   ],
   "source": [
    "import pandas as pd\n",
    "from sklearn import preprocessing\n",
    "\n",
    "# creating sample data\n",
    "sample_data = {'name': ['Ray', 'Dave', 'Jon', 'Xiao', 'Alem'],\n",
    "              'health': ['fit', 'slim', 'obesse', 'slim', 'fit']}\n",
    "\n",
    "# storing sample data in the form of dataframe\n",
    "\n",
    "data = pd.DataFrame(sample_data)\n",
    "print data\n",
    "\n",
    "label_encoder = preprocessing.LabelEncoder()\n",
    "label_encoder.fit(data['health'])\n",
    "\n",
    "print label_encoder.transform(data['health'])\n",
    "\n",
    "print label_encoder.fit_transform(data['health'])"
   ]
  },
  {
   "cell_type": "markdown",
   "metadata": {},
   "source": [
    "One thing to keep in mind when encoding data is the fact that you do not want to skew your analysis because of the numbers that are assigned to your categories. For example, in the above example, slim is assigned a value 2 and obese a value 1. This is not to say that the intention here is to have slim be a value that is empirically twice is likely to affect your analysis as compared to obese. In such situations it is better to one-hot encode your data as all categories are assigned a 0 or a 1 value thereby removing any unwanted biases that may creep in if you simply label encode your data."
   ]
  },
  {
   "cell_type": "markdown",
   "metadata": {},
   "source": [
    "## one-hot Encoder"
   ]
  },
  {
   "cell_type": "markdown",
   "metadata": {},
   "source": [
    "If we were to apply the one-hot transformation to the same example we had above, we'd do it in Pandas using get_dummies as follows:"
   ]
  },
  {
   "cell_type": "code",
   "execution_count": 47,
   "metadata": {
    "collapsed": false
   },
   "outputs": [
    {
     "name": "stdout",
     "output_type": "stream",
     "text": [
      "  (0, 0)\t1.0\n",
      "  (1, 2)\t1.0\n",
      "  (2, 1)\t1.0\n",
      "  (3, 2)\t1.0\n",
      "  (4, 0)\t1.0\n"
     ]
    }
   ],
   "source": [
    "import pandas as pd\n",
    "pd.get_dummies(data['health'])\n",
    "\n",
    "ohe = preprocessing.OneHotEncoder() # creating OneHotEncoder object\n",
    "label_encoded_data = label_encoder.fit_transform(data['health'])\n",
    "print ohe.fit_transform(label_encoded_data.reshape(-1,1))"
   ]
  },
  {
   "cell_type": "markdown",
   "metadata": {
    "collapsed": true
   },
   "source": [
    "# Cross Validation "
   ]
  },
  {
   "cell_type": "code",
   "execution_count": 1,
   "metadata": {
    "collapsed": false
   },
   "outputs": [
    {
     "name": "stdout",
     "output_type": "stream",
     "text": [
      "(90, 4) (90,)\n",
      "(60, 4) (60,)\n"
     ]
    }
   ],
   "source": [
    "import numpy as np\n",
    "from sklearn.model_selection import train_test_split\n",
    "from sklearn import datasets\n",
    "from sklearn import svm\n",
    "\n",
    "iris = datasets.load_iris()\n",
    "features = iris.data\n",
    "label = iris.target\n",
    "\n",
    "\n",
    "features_train, features_test, label_train, label_test = train_test_split(features, label, test_size=0.4, random_state=0)\n",
    "\n",
    "print features_train.shape, label_train.shape\n",
    "print features_test.shape, label_test.shape"
   ]
  },
  {
   "cell_type": "code",
   "execution_count": 6,
   "metadata": {
    "collapsed": false
   },
   "outputs": [],
   "source": []
  },
  {
   "cell_type": "code",
   "execution_count": null,
   "metadata": {
    "collapsed": true
   },
   "outputs": [],
   "source": []
  }
 ],
 "metadata": {
  "anaconda-cloud": {},
  "kernelspec": {
   "display_name": "Python [default]",
   "language": "python",
   "name": "python2"
  },
  "language_info": {
   "codemirror_mode": {
    "name": "ipython",
    "version": 2
   },
   "file_extension": ".py",
   "mimetype": "text/x-python",
   "name": "python",
   "nbconvert_exporter": "python",
   "pygments_lexer": "ipython2",
   "version": "2.7.12"
  }
 },
 "nbformat": 4,
 "nbformat_minor": 1
}
