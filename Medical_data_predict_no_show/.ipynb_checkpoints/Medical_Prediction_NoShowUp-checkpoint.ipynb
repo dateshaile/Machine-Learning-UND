{
 "cells": [
  {
   "cell_type": "markdown",
   "metadata": {},
   "source": [
    "## Hypothesis: \n",
    "A person makes a doctor appointment, receives all the instructions and no-show.\n",
    "\n",
    "My goal is to understand what are the main factors contribute that a patient no-show up on the appointment day. \n",
    "\n",
    "_Hypothesis Testing_: Is there significant difference in the means of ages between patients who didn't show-up and the entire pateint population?\n",
    "\n",
    "_Null Hypothesis:(HO)_ The null hypothesis would be that there is no difference in age between patients who didn't showup and the entire employee population.\n",
    "\n",
    "_Alternate Hypothesis: (HA)_ The alternative hypothesis would be that there is a difference in between patients who didn't showup and the entire patients population.\n",
    "\n"
   ]
  },
  {
   "cell_type": "markdown",
   "metadata": {},
   "source": [
    "## Prepare the Problem"
   ]
  },
  {
   "cell_type": "markdown",
   "metadata": {},
   "source": [
    "Loading everything that you need to start working on the problem. This includes loading the libraries and the datasets."
   ]
  },
  {
   "cell_type": "code",
   "execution_count": 1,
   "metadata": {
    "collapsed": false
   },
   "outputs": [],
   "source": [
    "import pandas as pd\n",
    "import numpy as np\n",
    "\n",
    "import warnings\n",
    "warnings.filterwarnings('ignore')\n",
    "%matplotlib inline"
   ]
  },
  {
   "cell_type": "code",
   "execution_count": 2,
   "metadata": {
    "collapsed": false
   },
   "outputs": [
    {
     "data": {
      "text/html": [
       "<div>\n",
       "<table border=\"1\" class=\"dataframe\">\n",
       "  <thead>\n",
       "    <tr style=\"text-align: right;\">\n",
       "      <th></th>\n",
       "      <th>PatientId</th>\n",
       "      <th>AppointmentID</th>\n",
       "      <th>Gender</th>\n",
       "      <th>ScheduledDay</th>\n",
       "      <th>AppointmentDay</th>\n",
       "      <th>Age</th>\n",
       "      <th>Neighbourhood</th>\n",
       "      <th>Scholarship</th>\n",
       "      <th>Hipertension</th>\n",
       "      <th>Diabetes</th>\n",
       "      <th>Alcoholism</th>\n",
       "      <th>Handcap</th>\n",
       "      <th>SMS_received</th>\n",
       "      <th>No-show</th>\n",
       "    </tr>\n",
       "  </thead>\n",
       "  <tbody>\n",
       "    <tr>\n",
       "      <th>0</th>\n",
       "      <td>2.987250e+13</td>\n",
       "      <td>5642903</td>\n",
       "      <td>F</td>\n",
       "      <td>2016-04-29T18:38:08Z</td>\n",
       "      <td>2016-04-29T00:00:00Z</td>\n",
       "      <td>62</td>\n",
       "      <td>JARDIM DA PENHA</td>\n",
       "      <td>0</td>\n",
       "      <td>1</td>\n",
       "      <td>0</td>\n",
       "      <td>0</td>\n",
       "      <td>0</td>\n",
       "      <td>0</td>\n",
       "      <td>No</td>\n",
       "    </tr>\n",
       "    <tr>\n",
       "      <th>1</th>\n",
       "      <td>5.589978e+14</td>\n",
       "      <td>5642503</td>\n",
       "      <td>M</td>\n",
       "      <td>2016-04-29T16:08:27Z</td>\n",
       "      <td>2016-04-29T00:00:00Z</td>\n",
       "      <td>56</td>\n",
       "      <td>JARDIM DA PENHA</td>\n",
       "      <td>0</td>\n",
       "      <td>0</td>\n",
       "      <td>0</td>\n",
       "      <td>0</td>\n",
       "      <td>0</td>\n",
       "      <td>0</td>\n",
       "      <td>No</td>\n",
       "    </tr>\n",
       "    <tr>\n",
       "      <th>2</th>\n",
       "      <td>4.262962e+12</td>\n",
       "      <td>5642549</td>\n",
       "      <td>F</td>\n",
       "      <td>2016-04-29T16:19:04Z</td>\n",
       "      <td>2016-04-29T00:00:00Z</td>\n",
       "      <td>62</td>\n",
       "      <td>MATA DA PRAIA</td>\n",
       "      <td>0</td>\n",
       "      <td>0</td>\n",
       "      <td>0</td>\n",
       "      <td>0</td>\n",
       "      <td>0</td>\n",
       "      <td>0</td>\n",
       "      <td>No</td>\n",
       "    </tr>\n",
       "    <tr>\n",
       "      <th>3</th>\n",
       "      <td>8.679512e+11</td>\n",
       "      <td>5642828</td>\n",
       "      <td>F</td>\n",
       "      <td>2016-04-29T17:29:31Z</td>\n",
       "      <td>2016-04-29T00:00:00Z</td>\n",
       "      <td>8</td>\n",
       "      <td>PONTAL DE CAMBURI</td>\n",
       "      <td>0</td>\n",
       "      <td>0</td>\n",
       "      <td>0</td>\n",
       "      <td>0</td>\n",
       "      <td>0</td>\n",
       "      <td>0</td>\n",
       "      <td>No</td>\n",
       "    </tr>\n",
       "    <tr>\n",
       "      <th>4</th>\n",
       "      <td>8.841186e+12</td>\n",
       "      <td>5642494</td>\n",
       "      <td>F</td>\n",
       "      <td>2016-04-29T16:07:23Z</td>\n",
       "      <td>2016-04-29T00:00:00Z</td>\n",
       "      <td>56</td>\n",
       "      <td>JARDIM DA PENHA</td>\n",
       "      <td>0</td>\n",
       "      <td>1</td>\n",
       "      <td>1</td>\n",
       "      <td>0</td>\n",
       "      <td>0</td>\n",
       "      <td>0</td>\n",
       "      <td>No</td>\n",
       "    </tr>\n",
       "  </tbody>\n",
       "</table>\n",
       "</div>"
      ],
      "text/plain": [
       "      PatientId  AppointmentID Gender          ScheduledDay  \\\n",
       "0  2.987250e+13        5642903      F  2016-04-29T18:38:08Z   \n",
       "1  5.589978e+14        5642503      M  2016-04-29T16:08:27Z   \n",
       "2  4.262962e+12        5642549      F  2016-04-29T16:19:04Z   \n",
       "3  8.679512e+11        5642828      F  2016-04-29T17:29:31Z   \n",
       "4  8.841186e+12        5642494      F  2016-04-29T16:07:23Z   \n",
       "\n",
       "         AppointmentDay  Age      Neighbourhood  Scholarship  Hipertension  \\\n",
       "0  2016-04-29T00:00:00Z   62    JARDIM DA PENHA            0             1   \n",
       "1  2016-04-29T00:00:00Z   56    JARDIM DA PENHA            0             0   \n",
       "2  2016-04-29T00:00:00Z   62      MATA DA PRAIA            0             0   \n",
       "3  2016-04-29T00:00:00Z    8  PONTAL DE CAMBURI            0             0   \n",
       "4  2016-04-29T00:00:00Z   56    JARDIM DA PENHA            0             1   \n",
       "\n",
       "   Diabetes  Alcoholism  Handcap  SMS_received No-show  \n",
       "0         0           0        0             0      No  \n",
       "1         0           0        0             0      No  \n",
       "2         0           0        0             0      No  \n",
       "3         0           0        0             0      No  \n",
       "4         1           0        0             0      No  "
      ]
     },
     "execution_count": 2,
     "metadata": {},
     "output_type": "execute_result"
    }
   ],
   "source": [
    "data_df = pd.read_csv('KaggleV2-May-2016.csv')\n",
    "\n",
    "#Get a quick overview what we are dealing in our dataset\n",
    "data_df.head()"
   ]
  },
  {
   "cell_type": "code",
   "execution_count": 5,
   "metadata": {
    "collapsed": false
   },
   "outputs": [
    {
     "data": {
      "text/plain": [
       "(110527, 14)"
      ]
     },
     "execution_count": 5,
     "metadata": {},
     "output_type": "execute_result"
    }
   ],
   "source": [
    "#dimensions of the dataset or shape\n",
    "data_df.shape"
   ]
  },
  {
   "cell_type": "code",
   "execution_count": 9,
   "metadata": {
    "collapsed": false
   },
   "outputs": [
    {
     "data": {
      "text/plain": [
       "array(['No', 'Yes'], dtype=object)"
      ]
     },
     "execution_count": 9,
     "metadata": {},
     "output_type": "execute_result"
    }
   ],
   "source": [
    "#checking unique target value\n",
    "data_df['No-show'].unique()"
   ]
  },
  {
   "cell_type": "code",
   "execution_count": 10,
   "metadata": {
    "collapsed": false
   },
   "outputs": [
    {
     "data": {
      "text/plain": [
       "PatientId         float64\n",
       "AppointmentID       int64\n",
       "Gender             object\n",
       "ScheduledDay       object\n",
       "AppointmentDay     object\n",
       "Age                 int64\n",
       "Neighbourhood      object\n",
       "Scholarship         int64\n",
       "Hipertension        int64\n",
       "Diabetes            int64\n",
       "Alcoholism          int64\n",
       "Handcap             int64\n",
       "SMS_received        int64\n",
       "No-show            object\n",
       "dtype: object"
      ]
     },
     "execution_count": 10,
     "metadata": {},
     "output_type": "execute_result"
    }
   ],
   "source": [
    "#Data type of each attribute\n",
    "data_df.dtypes"
   ]
  },
  {
   "cell_type": "markdown",
   "metadata": {},
   "source": [
    "## Summarize Data\n",
    "Lets do work on the descriptive statistics and data visualizations"
   ]
  },
  {
   "cell_type": "markdown",
   "metadata": {},
   "source": [
    "#### Statistical Summary"
   ]
  },
  {
   "cell_type": "code",
   "execution_count": 15,
   "metadata": {
    "collapsed": false
   },
   "outputs": [
    {
     "data": {
      "text/html": [
       "<div>\n",
       "<table border=\"1\" class=\"dataframe\">\n",
       "  <thead>\n",
       "    <tr style=\"text-align: right;\">\n",
       "      <th></th>\n",
       "      <th>PatientId</th>\n",
       "      <th>AppointmentID</th>\n",
       "      <th>Age</th>\n",
       "      <th>Scholarship</th>\n",
       "      <th>Hipertension</th>\n",
       "      <th>Diabetes</th>\n",
       "      <th>Alcoholism</th>\n",
       "      <th>Handcap</th>\n",
       "      <th>SMS_received</th>\n",
       "    </tr>\n",
       "  </thead>\n",
       "  <tbody>\n",
       "    <tr>\n",
       "      <th>count</th>\n",
       "      <td>1.11e+05</td>\n",
       "      <td>1.11e+05</td>\n",
       "      <td>110527.00</td>\n",
       "      <td>110527.0</td>\n",
       "      <td>110527.0</td>\n",
       "      <td>110527.00</td>\n",
       "      <td>110527.00</td>\n",
       "      <td>110527.00</td>\n",
       "      <td>110527.00</td>\n",
       "    </tr>\n",
       "    <tr>\n",
       "      <th>mean</th>\n",
       "      <td>1.47e+14</td>\n",
       "      <td>5.68e+06</td>\n",
       "      <td>37.09</td>\n",
       "      <td>0.1</td>\n",
       "      <td>0.2</td>\n",
       "      <td>0.07</td>\n",
       "      <td>0.03</td>\n",
       "      <td>0.02</td>\n",
       "      <td>0.32</td>\n",
       "    </tr>\n",
       "    <tr>\n",
       "      <th>std</th>\n",
       "      <td>2.56e+14</td>\n",
       "      <td>7.13e+04</td>\n",
       "      <td>23.11</td>\n",
       "      <td>0.3</td>\n",
       "      <td>0.4</td>\n",
       "      <td>0.26</td>\n",
       "      <td>0.17</td>\n",
       "      <td>0.16</td>\n",
       "      <td>0.47</td>\n",
       "    </tr>\n",
       "    <tr>\n",
       "      <th>min</th>\n",
       "      <td>3.92e+04</td>\n",
       "      <td>5.03e+06</td>\n",
       "      <td>-1.00</td>\n",
       "      <td>0.0</td>\n",
       "      <td>0.0</td>\n",
       "      <td>0.00</td>\n",
       "      <td>0.00</td>\n",
       "      <td>0.00</td>\n",
       "      <td>0.00</td>\n",
       "    </tr>\n",
       "    <tr>\n",
       "      <th>25%</th>\n",
       "      <td>4.17e+12</td>\n",
       "      <td>5.64e+06</td>\n",
       "      <td>18.00</td>\n",
       "      <td>0.0</td>\n",
       "      <td>0.0</td>\n",
       "      <td>0.00</td>\n",
       "      <td>0.00</td>\n",
       "      <td>0.00</td>\n",
       "      <td>0.00</td>\n",
       "    </tr>\n",
       "    <tr>\n",
       "      <th>50%</th>\n",
       "      <td>3.17e+13</td>\n",
       "      <td>5.68e+06</td>\n",
       "      <td>37.00</td>\n",
       "      <td>0.0</td>\n",
       "      <td>0.0</td>\n",
       "      <td>0.00</td>\n",
       "      <td>0.00</td>\n",
       "      <td>0.00</td>\n",
       "      <td>0.00</td>\n",
       "    </tr>\n",
       "    <tr>\n",
       "      <th>75%</th>\n",
       "      <td>9.44e+13</td>\n",
       "      <td>5.73e+06</td>\n",
       "      <td>55.00</td>\n",
       "      <td>0.0</td>\n",
       "      <td>0.0</td>\n",
       "      <td>0.00</td>\n",
       "      <td>0.00</td>\n",
       "      <td>0.00</td>\n",
       "      <td>1.00</td>\n",
       "    </tr>\n",
       "    <tr>\n",
       "      <th>max</th>\n",
       "      <td>1.00e+15</td>\n",
       "      <td>5.79e+06</td>\n",
       "      <td>115.00</td>\n",
       "      <td>1.0</td>\n",
       "      <td>1.0</td>\n",
       "      <td>1.00</td>\n",
       "      <td>1.00</td>\n",
       "      <td>4.00</td>\n",
       "      <td>1.00</td>\n",
       "    </tr>\n",
       "  </tbody>\n",
       "</table>\n",
       "</div>"
      ],
      "text/plain": [
       "       PatientId  AppointmentID        Age  Scholarship  Hipertension  \\\n",
       "count   1.11e+05       1.11e+05  110527.00     110527.0      110527.0   \n",
       "mean    1.47e+14       5.68e+06      37.09          0.1           0.2   \n",
       "std     2.56e+14       7.13e+04      23.11          0.3           0.4   \n",
       "min     3.92e+04       5.03e+06      -1.00          0.0           0.0   \n",
       "25%     4.17e+12       5.64e+06      18.00          0.0           0.0   \n",
       "50%     3.17e+13       5.68e+06      37.00          0.0           0.0   \n",
       "75%     9.44e+13       5.73e+06      55.00          0.0           0.0   \n",
       "max     1.00e+15       5.79e+06     115.00          1.0           1.0   \n",
       "\n",
       "        Diabetes  Alcoholism    Handcap  SMS_received  \n",
       "count  110527.00   110527.00  110527.00     110527.00  \n",
       "mean        0.07        0.03       0.02          0.32  \n",
       "std         0.26        0.17       0.16          0.47  \n",
       "min         0.00        0.00       0.00          0.00  \n",
       "25%         0.00        0.00       0.00          0.00  \n",
       "50%         0.00        0.00       0.00          0.00  \n",
       "75%         0.00        0.00       0.00          1.00  \n",
       "max         1.00        1.00       4.00          1.00  "
      ]
     },
     "execution_count": 15,
     "metadata": {},
     "output_type": "execute_result"
    }
   ],
   "source": [
    "#description of the data set\n",
    "from pandas import set_option\n",
    "set_option('precision', 2)\n",
    "data_df.describe()"
   ]
  },
  {
   "cell_type": "code",
   "execution_count": 17,
   "metadata": {
    "collapsed": false
   },
   "outputs": [
    {
     "data": {
      "text/plain": [
       "No-show\n",
       "No     88208\n",
       "Yes    22319\n",
       "dtype: int64"
      ]
     },
     "execution_count": 17,
     "metadata": {},
     "output_type": "execute_result"
    }
   ],
   "source": [
    "#class distribution\n",
    "class_noshow = data_df.groupby('No-show').size()\n",
    "class_noshow"
   ]
  },
  {
   "cell_type": "code",
   "execution_count": 21,
   "metadata": {
    "collapsed": false
   },
   "outputs": [
    {
     "data": {
      "text/html": [
       "<div>\n",
       "<table border=\"1\" class=\"dataframe\">\n",
       "  <thead>\n",
       "    <tr style=\"text-align: right;\">\n",
       "      <th></th>\n",
       "      <th>PatientId</th>\n",
       "      <th>AppointmentID</th>\n",
       "      <th>Age</th>\n",
       "      <th>Scholarship</th>\n",
       "      <th>Hipertension</th>\n",
       "      <th>Diabetes</th>\n",
       "      <th>Alcoholism</th>\n",
       "      <th>Handcap</th>\n",
       "      <th>SMS_received</th>\n",
       "    </tr>\n",
       "  </thead>\n",
       "  <tbody>\n",
       "    <tr>\n",
       "      <th>PatientId</th>\n",
       "      <td>1.00e+00</td>\n",
       "      <td>4.04e-03</td>\n",
       "      <td>-4.14e-03</td>\n",
       "      <td>-2.88e-03</td>\n",
       "      <td>-6.44e-03</td>\n",
       "      <td>1.61e-03</td>\n",
       "      <td>1.10e-02</td>\n",
       "      <td>-7.92e-03</td>\n",
       "      <td>-9.75e-03</td>\n",
       "    </tr>\n",
       "    <tr>\n",
       "      <th>AppointmentID</th>\n",
       "      <td>4.04e-03</td>\n",
       "      <td>1.00e+00</td>\n",
       "      <td>-1.91e-02</td>\n",
       "      <td>2.26e-02</td>\n",
       "      <td>1.28e-02</td>\n",
       "      <td>2.26e-02</td>\n",
       "      <td>3.29e-02</td>\n",
       "      <td>1.41e-02</td>\n",
       "      <td>-2.57e-01</td>\n",
       "    </tr>\n",
       "    <tr>\n",
       "      <th>Age</th>\n",
       "      <td>-4.14e-03</td>\n",
       "      <td>-1.91e-02</td>\n",
       "      <td>1.00e+00</td>\n",
       "      <td>-9.25e-02</td>\n",
       "      <td>5.05e-01</td>\n",
       "      <td>2.92e-01</td>\n",
       "      <td>9.58e-02</td>\n",
       "      <td>7.80e-02</td>\n",
       "      <td>1.26e-02</td>\n",
       "    </tr>\n",
       "    <tr>\n",
       "      <th>Scholarship</th>\n",
       "      <td>-2.88e-03</td>\n",
       "      <td>2.26e-02</td>\n",
       "      <td>-9.25e-02</td>\n",
       "      <td>1.00e+00</td>\n",
       "      <td>-1.97e-02</td>\n",
       "      <td>-2.49e-02</td>\n",
       "      <td>3.50e-02</td>\n",
       "      <td>-8.59e-03</td>\n",
       "      <td>1.19e-03</td>\n",
       "    </tr>\n",
       "    <tr>\n",
       "      <th>Hipertension</th>\n",
       "      <td>-6.44e-03</td>\n",
       "      <td>1.28e-02</td>\n",
       "      <td>5.05e-01</td>\n",
       "      <td>-1.97e-02</td>\n",
       "      <td>1.00e+00</td>\n",
       "      <td>4.33e-01</td>\n",
       "      <td>8.80e-02</td>\n",
       "      <td>8.01e-02</td>\n",
       "      <td>-6.27e-03</td>\n",
       "    </tr>\n",
       "    <tr>\n",
       "      <th>Diabetes</th>\n",
       "      <td>1.61e-03</td>\n",
       "      <td>2.26e-02</td>\n",
       "      <td>2.92e-01</td>\n",
       "      <td>-2.49e-02</td>\n",
       "      <td>4.33e-01</td>\n",
       "      <td>1.00e+00</td>\n",
       "      <td>1.85e-02</td>\n",
       "      <td>5.75e-02</td>\n",
       "      <td>-1.46e-02</td>\n",
       "    </tr>\n",
       "    <tr>\n",
       "      <th>Alcoholism</th>\n",
       "      <td>1.10e-02</td>\n",
       "      <td>3.29e-02</td>\n",
       "      <td>9.58e-02</td>\n",
       "      <td>3.50e-02</td>\n",
       "      <td>8.80e-02</td>\n",
       "      <td>1.85e-02</td>\n",
       "      <td>1.00e+00</td>\n",
       "      <td>4.65e-03</td>\n",
       "      <td>-2.61e-02</td>\n",
       "    </tr>\n",
       "    <tr>\n",
       "      <th>Handcap</th>\n",
       "      <td>-7.92e-03</td>\n",
       "      <td>1.41e-02</td>\n",
       "      <td>7.80e-02</td>\n",
       "      <td>-8.59e-03</td>\n",
       "      <td>8.01e-02</td>\n",
       "      <td>5.75e-02</td>\n",
       "      <td>4.65e-03</td>\n",
       "      <td>1.00e+00</td>\n",
       "      <td>-2.42e-02</td>\n",
       "    </tr>\n",
       "    <tr>\n",
       "      <th>SMS_received</th>\n",
       "      <td>-9.75e-03</td>\n",
       "      <td>-2.57e-01</td>\n",
       "      <td>1.26e-02</td>\n",
       "      <td>1.19e-03</td>\n",
       "      <td>-6.27e-03</td>\n",
       "      <td>-1.46e-02</td>\n",
       "      <td>-2.61e-02</td>\n",
       "      <td>-2.42e-02</td>\n",
       "      <td>1.00e+00</td>\n",
       "    </tr>\n",
       "  </tbody>\n",
       "</table>\n",
       "</div>"
      ],
      "text/plain": [
       "               PatientId  AppointmentID       Age  Scholarship  Hipertension  \\\n",
       "PatientId       1.00e+00       4.04e-03 -4.14e-03    -2.88e-03     -6.44e-03   \n",
       "AppointmentID   4.04e-03       1.00e+00 -1.91e-02     2.26e-02      1.28e-02   \n",
       "Age            -4.14e-03      -1.91e-02  1.00e+00    -9.25e-02      5.05e-01   \n",
       "Scholarship    -2.88e-03       2.26e-02 -9.25e-02     1.00e+00     -1.97e-02   \n",
       "Hipertension   -6.44e-03       1.28e-02  5.05e-01    -1.97e-02      1.00e+00   \n",
       "Diabetes        1.61e-03       2.26e-02  2.92e-01    -2.49e-02      4.33e-01   \n",
       "Alcoholism      1.10e-02       3.29e-02  9.58e-02     3.50e-02      8.80e-02   \n",
       "Handcap        -7.92e-03       1.41e-02  7.80e-02    -8.59e-03      8.01e-02   \n",
       "SMS_received   -9.75e-03      -2.57e-01  1.26e-02     1.19e-03     -6.27e-03   \n",
       "\n",
       "               Diabetes  Alcoholism   Handcap  SMS_received  \n",
       "PatientId      1.61e-03    1.10e-02 -7.92e-03     -9.75e-03  \n",
       "AppointmentID  2.26e-02    3.29e-02  1.41e-02     -2.57e-01  \n",
       "Age            2.92e-01    9.58e-02  7.80e-02      1.26e-02  \n",
       "Scholarship   -2.49e-02    3.50e-02 -8.59e-03      1.19e-03  \n",
       "Hipertension   4.33e-01    8.80e-02  8.01e-02     -6.27e-03  \n",
       "Diabetes       1.00e+00    1.85e-02  5.75e-02     -1.46e-02  \n",
       "Alcoholism     1.85e-02    1.00e+00  4.65e-03     -2.61e-02  \n",
       "Handcap        5.75e-02    4.65e-03  1.00e+00     -2.42e-02  \n",
       "SMS_received  -1.46e-02   -2.61e-02 -2.42e-02      1.00e+00  "
      ]
     },
     "execution_count": 21,
     "metadata": {},
     "output_type": "execute_result"
    }
   ],
   "source": [
    "#Pairwise Pearson correlations\n",
    "set_option('precision', 2)\n",
    "data_df.corr(method='pearson')"
   ]
  },
  {
   "cell_type": "code",
   "execution_count": 22,
   "metadata": {
    "collapsed": false
   },
   "outputs": [
    {
     "data": {
      "text/plain": [
       "PatientId        1.968\n",
       "AppointmentID   -1.236\n",
       "Age              0.122\n",
       "Scholarship      2.699\n",
       "Hipertension     1.522\n",
       "Diabetes         3.316\n",
       "Alcoholism       5.471\n",
       "Handcap          8.274\n",
       "SMS_received     0.767\n",
       "dtype: float64"
      ]
     },
     "execution_count": 22,
     "metadata": {},
     "output_type": "execute_result"
    }
   ],
   "source": [
    "#skew of each attribute\n",
    "set_option('precision', 3)\n",
    "data_df.skew()"
   ]
  },
  {
   "cell_type": "code",
   "execution_count": 24,
   "metadata": {
    "collapsed": false
   },
   "outputs": [
    {
     "data": {
      "text/plain": [
       "PatientId         2.583\n",
       "AppointmentID     3.744\n",
       "Age              -0.952\n",
       "Scholarship       5.286\n",
       "Hipertension      0.316\n",
       "Diabetes          8.993\n",
       "Alcoholism       27.928\n",
       "Handcap          82.556\n",
       "SMS_received     -1.412\n",
       "dtype: float64"
      ]
     },
     "execution_count": 24,
     "metadata": {},
     "output_type": "execute_result"
    }
   ],
   "source": [
    "#Kurtosis of each attribute\n",
    "set_option('precision', 3)\n",
    "data_df.kurt()"
   ]
  },
  {
   "cell_type": "markdown",
   "metadata": {},
   "source": [
    "### Understand data with Visualization"
   ]
  },
  {
   "cell_type": "markdown",
   "metadata": {},
   "source": [
    "Plotting the data using univarite and multivarite plots"
   ]
  },
  {
   "cell_type": "code",
   "execution_count": 26,
   "metadata": {
    "collapsed": true
   },
   "outputs": [],
   "source": [
    "%matplotlib inline\n",
    "from warnings import filterwarnings\n",
    "\n",
    "import seaborn as sns\n",
    "from matplotlib import pyplot as plt"
   ]
  },
  {
   "cell_type": "code",
   "execution_count": 59,
   "metadata": {
    "collapsed": false
   },
   "outputs": [
    {
     "data": {
      "text/plain": [
       "<matplotlib.text.Text at 0x7fa5939a5fd0>"
      ]
     },
     "execution_count": 59,
     "metadata": {},
     "output_type": "execute_result"
    },
    {
     "data": {
      "image/png": "[encoded data removed]",
      "text/plain": [
       "<matplotlib.figure.Figure at 0x7fa5926783d0>"
      ]
     },
     "metadata": {},
     "output_type": "display_data"
    }
   ],
   "source": [
    "#Counting in visula form od No-show with respective Gender\n",
    "g = sns.factorplot(x='Gender', hue='No-show', data=data_df, kind='count')\n",
    "plt.subplots_adjust(top=0.9)\n",
    "g.fig.suptitle(\"Patient Gender No-show Distributions\")"
   ]
  },
  {
   "cell_type": "code",
   "execution_count": 60,
   "metadata": {
    "collapsed": false
   },
   "outputs": [
    {
     "data": {
      "text/plain": [
       "<matplotlib.text.Text at 0x7fa5925cdf50>"
      ]
     },
     "execution_count": 60,
     "metadata": {},
     "output_type": "execute_result"
    },
    {
     "data": {
      "image/png": "[encoded data removed]",
      "text/plain": [
       "<matplotlib.figure.Figure at 0x7fa590c59650>"
      ]
     },
     "metadata": {},
     "output_type": "display_data"
    }
   ],
   "source": [
    "\n",
    "g = sns.factorplot(x='Handcap', y='Age', data=data_df, kind='box')\n",
    "plt.subplots_adjust(top=0.9)\n",
    "g.fig.suptitle(\"Patient Handicap Distributions\")"
   ]
  },
  {
   "cell_type": "code",
   "execution_count": 65,
   "metadata": {
    "collapsed": false
   },
   "outputs": [
    {
     "data": {
      "image/png": "[encoded data removed]",
      "text/plain": [
       "<matplotlib.figure.Figure at 0x7fa59005df50>"
      ]
     },
     "metadata": {},
     "output_type": "display_data"
    }
   ],
   "source": [
    "# Count Plot (a.k.a. Bar Plot)\n",
    "sns.countplot(x='Handcap', data=data_df).set_title('Handicap Distribution');\n",
    " \n",
    "# Rotate x-labels\n",
    "#plt.xticks(rotation=-45)"
   ]
  },
  {
   "cell_type": "code",
   "execution_count": 67,
   "metadata": {
    "collapsed": false
   },
   "outputs": [
    {
     "data": {
      "text/plain": [
       "<matplotlib.text.Text at 0x7fa58b8d56d0>"
      ]
     },
     "execution_count": 67,
     "metadata": {},
     "output_type": "execute_result"
    },
    {
     "data": {
      "image/png": "[encoded data removed]",
      "text/plain": [
       "<matplotlib.figure.Figure at 0x7fa5900792d0>"
      ]
     },
     "metadata": {},
     "output_type": "display_data"
    }
   ],
   "source": [
    "# Set up the matplotlib figure\n",
    "f, axes = plt.subplots(ncols=3, figsize=(15, 6))\n",
    "\n",
    "# Graph Pateint Age\n",
    "sns.distplot(data_df.Age, kde=False, color=\"g\", ax=axes[0]).set_title('Pateint Age Distribution')\n",
    "\n",
    "# Graph Pateint handicap dist\n",
    "sns.distplot(data_df.Handcap, kde=False, color=\"r\", ax=axes[1]).set_title('Pateint Handicap Distribution')\n",
    "\n",
    "# Graph Pateint ID dis\n",
    "sns.distplot(data_df.PatientId, kde=False, color=\"b\", ax=axes[2]).set_title('PateintID Distribution')"
   ]
  },
  {
   "cell_type": "code",
   "execution_count": 69,
   "metadata": {
    "collapsed": false
   },
   "outputs": [
    {
     "data": {
      "image/png": "[encoded data removed]",
      "text/plain": [
       "<matplotlib.figure.Figure at 0x7fa593a60f50>"
      ]
     },
     "metadata": {},
     "output_type": "display_data"
    }
   ],
   "source": [
    "#plotting box plot on Age to check if there is any outliers \n",
    "sns.set_style('whitegrid')\n",
    "ax = sns.boxplot(data_df['Age'])"
   ]
  },
  {
   "cell_type": "code",
   "execution_count": 70,
   "metadata": {
    "collapsed": false
   },
   "outputs": [
    {
     "data": {
      "image/png": "[encoded data removed]",
      "text/plain": [
       "<matplotlib.figure.Figure at 0x7fa58bf62cd0>"
      ]
     },
     "metadata": {},
     "output_type": "display_data"
    }
   ],
   "source": [
    "#Histogram number of appointments per patient\n",
    "gb = data_df.groupby('PatientId')['AppointmentDay'].nunique()\n",
    "plt.figure()\n",
    "plt.hist(gb, bins=gb.nunique())\n",
    "plt.title(\"Number of Appointments per Patient\")\n",
    "plt.show()\n",
    "#print \"----------------\"\n",
    "\n",
    "#print Med_data_df.groupby('AppointmentDay')['PatientId'].nunique()"
   ]
  },
  {
   "cell_type": "code",
   "execution_count": 71,
   "metadata": {
    "collapsed": false
   },
   "outputs": [
    {
     "data": {
      "text/plain": [
       "<matplotlib.axes._subplots.AxesSubplot at 0x7fa590cb8090>"
      ]
     },
     "execution_count": 71,
     "metadata": {},
     "output_type": "execute_result"
    },
    {
     "data": {
      "image/png": "[encoded data removed]",
      "text/plain": [
       "<matplotlib.figure.Figure at 0x7fa59005d750>"
      ]
     },
     "metadata": {},
     "output_type": "display_data"
    }
   ],
   "source": [
    "sns.pointplot(x='No-show', y='Scholarship', join= False, data=data_df)"
   ]
  },
  {
   "cell_type": "code",
   "execution_count": 75,
   "metadata": {
    "collapsed": false
   },
   "outputs": [
    {
     "data": {
      "text/plain": [
       "<seaborn.axisgrid.FacetGrid at 0x7fa590b660d0>"
      ]
     },
     "execution_count": 75,
     "metadata": {},
     "output_type": "execute_result"
    },
    {
     "data": {
      "text/plain": [
       "<matplotlib.figure.Figure at 0x7fa58b634a10>"
      ]
     },
     "metadata": {},
     "output_type": "display_data"
    },
    {
     "data": {
      "image/png": "[encoded data removed]",
      "text/plain": [
       "<matplotlib.figure.Figure at 0x7fa58b171110>"
      ]
     },
     "metadata": {},
     "output_type": "display_data"
    }
   ],
   "source": [
    "fig = plt.figure(figsize=(12, 10))\n",
    "sns.factorplot(x='Handcap', y='Age', col='Gender', hue='No-show', data=data_df, kind='box')"
   ]
  },
  {
   "cell_type": "code",
   "execution_count": 74,
   "metadata": {
    "collapsed": false
   },
   "outputs": [
    {
     "data": {
      "text/plain": [
       "<seaborn.axisgrid.FacetGrid at 0x7fa590b3ec50>"
      ]
     },
     "execution_count": 74,
     "metadata": {},
     "output_type": "execute_result"
    },
    {
     "data": {
      "image/png": "[encoded data removed]",
      "text/plain": [
       "<matplotlib.figure.Figure at 0x7fa590c40290>"
      ]
     },
     "metadata": {},
     "output_type": "display_data"
    }
   ],
   "source": [
    "sns.factorplot(x = 'Diabetes', y = 'Age', hue='No-show', kind='box', col='Gender', data=data_df)"
   ]
  },
  {
   "cell_type": "code",
   "execution_count": 76,
   "metadata": {
    "collapsed": false
   },
   "outputs": [
    {
     "data": {
      "text/plain": [
       "<seaborn.axisgrid.FacetGrid at 0x7fa59686bcd0>"
      ]
     },
     "execution_count": 76,
     "metadata": {},
     "output_type": "execute_result"
    },
    {
     "data": {
      "image/png": "[encoded data removed]",
      "text/plain": [
       "<matplotlib.figure.Figure at 0x7fa58ad62110>"
      ]
     },
     "metadata": {},
     "output_type": "display_data"
    }
   ],
   "source": [
    "sns.factorplot(x='SMS_received', hue='No-show', col='Gender', data=data_df, kind='count')"
   ]
  },
  {
   "cell_type": "markdown",
   "metadata": {},
   "source": [
    "# Prepare Data"
   ]
  },
  {
   "cell_type": "markdown",
   "metadata": {},
   "source": [
    "Typically, cleaning the data requires a lot of work and can be a very tedious procedure. This dataset from Kaggle is super clean and contains no missing values. But still, I will have to examine the dataset to make sure that everything else is readable and that the observation values match the feature names appropriately.\n",
    "\n",
    "The dataset has:\n",
    "- 100k medical appointments and its 15 variables (characteristics) of each. The most important one if the patient show-up or no-show the appointment. \n",
    "- 25% Pateint didn't show-up during the appointment time."
   ]
  },
  {
   "cell_type": "markdown",
   "metadata": {},
   "source": [
    "### Variable Identification\n",
    "\n",
    "First identify the _Predicator(input)_ and _Target(output)_ variables. In this problem the _Target variable_ is **No-show** variable, Predicator are the rest features."
   ]
  },
  {
   "cell_type": "code",
   "execution_count": 78,
   "metadata": {
    "collapsed": false
   },
   "outputs": [],
   "source": [
    "#make a copy of our original dataframe\n",
    "Med_data_df = data_df.copy()"
   ]
  },
  {
   "cell_type": "code",
   "execution_count": 79,
   "metadata": {
    "collapsed": true
   },
   "outputs": [],
   "source": [
    "#rename columns for better readability\n",
    "Med_data_df.rename(columns={'Hipertension':'Hypertension', 'Handcap':'Handicap'}, inplace=True)"
   ]
  },
  {
   "cell_type": "code",
   "execution_count": 80,
   "metadata": {
    "collapsed": false
   },
   "outputs": [
    {
     "data": {
      "text/html": [
       "<div>\n",
       "<table border=\"1\" class=\"dataframe\">\n",
       "  <thead>\n",
       "    <tr style=\"text-align: right;\">\n",
       "      <th></th>\n",
       "      <th>PatientId</th>\n",
       "      <th>AppointmentID</th>\n",
       "      <th>Gender</th>\n",
       "      <th>ScheduledDay</th>\n",
       "      <th>AppointmentDay</th>\n",
       "      <th>Age</th>\n",
       "      <th>Neighbourhood</th>\n",
       "      <th>Scholarship</th>\n",
       "      <th>Hypertension</th>\n",
       "      <th>Diabetes</th>\n",
       "      <th>Alcoholism</th>\n",
       "      <th>Handicap</th>\n",
       "      <th>SMS_received</th>\n",
       "      <th>No-show</th>\n",
       "    </tr>\n",
       "  </thead>\n",
       "  <tbody>\n",
       "    <tr>\n",
       "      <th>0</th>\n",
       "      <td>2.987e+13</td>\n",
       "      <td>5642903</td>\n",
       "      <td>F</td>\n",
       "      <td>2016-04-29 18:38:08</td>\n",
       "      <td>2016-04-29</td>\n",
       "      <td>62</td>\n",
       "      <td>JARDIM DA PENHA</td>\n",
       "      <td>0</td>\n",
       "      <td>1</td>\n",
       "      <td>0</td>\n",
       "      <td>0</td>\n",
       "      <td>0</td>\n",
       "      <td>0</td>\n",
       "      <td>No</td>\n",
       "    </tr>\n",
       "    <tr>\n",
       "      <th>1</th>\n",
       "      <td>5.590e+14</td>\n",
       "      <td>5642503</td>\n",
       "      <td>M</td>\n",
       "      <td>2016-04-29 16:08:27</td>\n",
       "      <td>2016-04-29</td>\n",
       "      <td>56</td>\n",
       "      <td>JARDIM DA PENHA</td>\n",
       "      <td>0</td>\n",
       "      <td>0</td>\n",
       "      <td>0</td>\n",
       "      <td>0</td>\n",
       "      <td>0</td>\n",
       "      <td>0</td>\n",
       "      <td>No</td>\n",
       "    </tr>\n",
       "  </tbody>\n",
       "</table>\n",
       "</div>"
      ],
      "text/plain": [
       "   PatientId  AppointmentID Gender        ScheduledDay AppointmentDay  Age  \\\n",
       "0  2.987e+13        5642903      F 2016-04-29 18:38:08     2016-04-29   62   \n",
       "1  5.590e+14        5642503      M 2016-04-29 16:08:27     2016-04-29   56   \n",
       "\n",
       "     Neighbourhood  Scholarship  Hypertension  Diabetes  Alcoholism  Handicap  \\\n",
       "0  JARDIM DA PENHA            0             1         0           0         0   \n",
       "1  JARDIM DA PENHA            0             0         0           0         0   \n",
       "\n",
       "   SMS_received No-show  \n",
       "0             0      No  \n",
       "1             0      No  "
      ]
     },
     "execution_count": 80,
     "metadata": {},
     "output_type": "execute_result"
    }
   ],
   "source": [
    "#formatting ScheduleDay and AppointmentDay column to datetime format\n",
    "Med_data_df.ScheduledDay = Med_data_df.ScheduledDay.apply(np.datetime64)\n",
    "Med_data_df.AppointmentDay = Med_data_df.AppointmentDay.apply(np.datetime64)\n",
    "Med_data_df.head(2)"
   ]
  },
  {
   "cell_type": "code",
   "execution_count": 82,
   "metadata": {
    "collapsed": false
   },
   "outputs": [
    {
     "data": {
      "text/html": [
       "<div>\n",
       "<table border=\"1\" class=\"dataframe\">\n",
       "  <thead>\n",
       "    <tr style=\"text-align: right;\">\n",
       "      <th></th>\n",
       "      <th></th>\n",
       "      <th>Age</th>\n",
       "      <th>Alcoholism</th>\n",
       "      <th>AppointmentID</th>\n",
       "      <th>Diabetes</th>\n",
       "      <th>Handicap</th>\n",
       "      <th>Hypertension</th>\n",
       "      <th>PatientId</th>\n",
       "      <th>SMS_received</th>\n",
       "      <th>Scholarship</th>\n",
       "    </tr>\n",
       "    <tr>\n",
       "      <th>No-show</th>\n",
       "      <th></th>\n",
       "      <th></th>\n",
       "      <th></th>\n",
       "      <th></th>\n",
       "      <th></th>\n",
       "      <th></th>\n",
       "      <th></th>\n",
       "      <th></th>\n",
       "      <th></th>\n",
       "      <th></th>\n",
       "    </tr>\n",
       "  </thead>\n",
       "  <tbody>\n",
       "    <tr>\n",
       "      <th rowspan=\"8\" valign=\"top\">No</th>\n",
       "      <th>count</th>\n",
       "      <td>88208.000</td>\n",
       "      <td>88208.000</td>\n",
       "      <td>8.821e+04</td>\n",
       "      <td>88208.000</td>\n",
       "      <td>88208.000</td>\n",
       "      <td>88208.000</td>\n",
       "      <td>8.821e+04</td>\n",
       "      <td>88208.000</td>\n",
       "      <td>88208.000</td>\n",
       "    </tr>\n",
       "    <tr>\n",
       "      <th>mean</th>\n",
       "      <td>37.790</td>\n",
       "      <td>0.030</td>\n",
       "      <td>5.681e+06</td>\n",
       "      <td>0.074</td>\n",
       "      <td>0.023</td>\n",
       "      <td>0.204</td>\n",
       "      <td>1.477e+14</td>\n",
       "      <td>0.291</td>\n",
       "      <td>0.094</td>\n",
       "    </tr>\n",
       "    <tr>\n",
       "      <th>std</th>\n",
       "      <td>23.339</td>\n",
       "      <td>0.172</td>\n",
       "      <td>6.931e+04</td>\n",
       "      <td>0.262</td>\n",
       "      <td>0.163</td>\n",
       "      <td>0.403</td>\n",
       "      <td>2.564e+14</td>\n",
       "      <td>0.454</td>\n",
       "      <td>0.292</td>\n",
       "    </tr>\n",
       "    <tr>\n",
       "      <th>min</th>\n",
       "      <td>-1.000</td>\n",
       "      <td>0.000</td>\n",
       "      <td>5.030e+06</td>\n",
       "      <td>0.000</td>\n",
       "      <td>0.000</td>\n",
       "      <td>0.000</td>\n",
       "      <td>3.922e+04</td>\n",
       "      <td>0.000</td>\n",
       "      <td>0.000</td>\n",
       "    </tr>\n",
       "    <tr>\n",
       "      <th>25%</th>\n",
       "      <td>18.000</td>\n",
       "      <td>0.000</td>\n",
       "      <td>5.646e+06</td>\n",
       "      <td>0.000</td>\n",
       "      <td>0.000</td>\n",
       "      <td>0.000</td>\n",
       "      <td>4.168e+12</td>\n",
       "      <td>0.000</td>\n",
       "      <td>0.000</td>\n",
       "    </tr>\n",
       "    <tr>\n",
       "      <th>50%</th>\n",
       "      <td>38.000</td>\n",
       "      <td>0.000</td>\n",
       "      <td>5.686e+06</td>\n",
       "      <td>0.000</td>\n",
       "      <td>0.000</td>\n",
       "      <td>0.000</td>\n",
       "      <td>3.176e+13</td>\n",
       "      <td>0.000</td>\n",
       "      <td>0.000</td>\n",
       "    </tr>\n",
       "    <tr>\n",
       "      <th>75%</th>\n",
       "      <td>56.000</td>\n",
       "      <td>0.000</td>\n",
       "      <td>5.731e+06</td>\n",
       "      <td>0.000</td>\n",
       "      <td>0.000</td>\n",
       "      <td>0.000</td>\n",
       "      <td>9.434e+13</td>\n",
       "      <td>1.000</td>\n",
       "      <td>0.000</td>\n",
       "    </tr>\n",
       "    <tr>\n",
       "      <th>max</th>\n",
       "      <td>115.000</td>\n",
       "      <td>1.000</td>\n",
       "      <td>5.790e+06</td>\n",
       "      <td>1.000</td>\n",
       "      <td>4.000</td>\n",
       "      <td>1.000</td>\n",
       "      <td>1.000e+15</td>\n",
       "      <td>1.000</td>\n",
       "      <td>1.000</td>\n",
       "    </tr>\n",
       "    <tr>\n",
       "      <th rowspan=\"8\" valign=\"top\">Yes</th>\n",
       "      <th>count</th>\n",
       "      <td>22319.000</td>\n",
       "      <td>22319.000</td>\n",
       "      <td>2.232e+04</td>\n",
       "      <td>22319.000</td>\n",
       "      <td>22319.000</td>\n",
       "      <td>22319.000</td>\n",
       "      <td>2.232e+04</td>\n",
       "      <td>22319.000</td>\n",
       "      <td>22319.000</td>\n",
       "    </tr>\n",
       "    <tr>\n",
       "      <th>mean</th>\n",
       "      <td>34.318</td>\n",
       "      <td>0.030</td>\n",
       "      <td>5.652e+06</td>\n",
       "      <td>0.064</td>\n",
       "      <td>0.020</td>\n",
       "      <td>0.169</td>\n",
       "      <td>1.468e+14</td>\n",
       "      <td>0.438</td>\n",
       "      <td>0.116</td>\n",
       "    </tr>\n",
       "    <tr>\n",
       "      <th>std</th>\n",
       "      <td>21.966</td>\n",
       "      <td>0.172</td>\n",
       "      <td>7.430e+04</td>\n",
       "      <td>0.245</td>\n",
       "      <td>0.157</td>\n",
       "      <td>0.375</td>\n",
       "      <td>2.550e+14</td>\n",
       "      <td>0.496</td>\n",
       "      <td>0.320</td>\n",
       "    </tr>\n",
       "    <tr>\n",
       "      <th>min</th>\n",
       "      <td>0.000</td>\n",
       "      <td>0.000</td>\n",
       "      <td>5.123e+06</td>\n",
       "      <td>0.000</td>\n",
       "      <td>0.000</td>\n",
       "      <td>0.000</td>\n",
       "      <td>5.628e+06</td>\n",
       "      <td>0.000</td>\n",
       "      <td>0.000</td>\n",
       "    </tr>\n",
       "    <tr>\n",
       "      <th>25%</th>\n",
       "      <td>16.000</td>\n",
       "      <td>0.000</td>\n",
       "      <td>5.614e+06</td>\n",
       "      <td>0.000</td>\n",
       "      <td>0.000</td>\n",
       "      <td>0.000</td>\n",
       "      <td>4.177e+12</td>\n",
       "      <td>0.000</td>\n",
       "      <td>0.000</td>\n",
       "    </tr>\n",
       "    <tr>\n",
       "      <th>50%</th>\n",
       "      <td>33.000</td>\n",
       "      <td>0.000</td>\n",
       "      <td>5.658e+06</td>\n",
       "      <td>0.000</td>\n",
       "      <td>0.000</td>\n",
       "      <td>0.000</td>\n",
       "      <td>3.157e+13</td>\n",
       "      <td>0.000</td>\n",
       "      <td>0.000</td>\n",
       "    </tr>\n",
       "    <tr>\n",
       "      <th>75%</th>\n",
       "      <td>51.000</td>\n",
       "      <td>0.000</td>\n",
       "      <td>5.703e+06</td>\n",
       "      <td>0.000</td>\n",
       "      <td>0.000</td>\n",
       "      <td>0.000</td>\n",
       "      <td>9.454e+13</td>\n",
       "      <td>1.000</td>\n",
       "      <td>0.000</td>\n",
       "    </tr>\n",
       "    <tr>\n",
       "      <th>max</th>\n",
       "      <td>115.000</td>\n",
       "      <td>1.000</td>\n",
       "      <td>5.790e+06</td>\n",
       "      <td>1.000</td>\n",
       "      <td>4.000</td>\n",
       "      <td>1.000</td>\n",
       "      <td>9.997e+14</td>\n",
       "      <td>1.000</td>\n",
       "      <td>1.000</td>\n",
       "    </tr>\n",
       "  </tbody>\n",
       "</table>\n",
       "</div>"
      ],
      "text/plain": [
       "                     Age  Alcoholism  AppointmentID   Diabetes   Handicap  \\\n",
       "No-show                                                                     \n",
       "No      count  88208.000   88208.000      8.821e+04  88208.000  88208.000   \n",
       "        mean      37.790       0.030      5.681e+06      0.074      0.023   \n",
       "        std       23.339       0.172      6.931e+04      0.262      0.163   \n",
       "        min       -1.000       0.000      5.030e+06      0.000      0.000   \n",
       "        25%       18.000       0.000      5.646e+06      0.000      0.000   \n",
       "        50%       38.000       0.000      5.686e+06      0.000      0.000   \n",
       "        75%       56.000       0.000      5.731e+06      0.000      0.000   \n",
       "        max      115.000       1.000      5.790e+06      1.000      4.000   \n",
       "Yes     count  22319.000   22319.000      2.232e+04  22319.000  22319.000   \n",
       "        mean      34.318       0.030      5.652e+06      0.064      0.020   \n",
       "        std       21.966       0.172      7.430e+04      0.245      0.157   \n",
       "        min        0.000       0.000      5.123e+06      0.000      0.000   \n",
       "        25%       16.000       0.000      5.614e+06      0.000      0.000   \n",
       "        50%       33.000       0.000      5.658e+06      0.000      0.000   \n",
       "        75%       51.000       0.000      5.703e+06      0.000      0.000   \n",
       "        max      115.000       1.000      5.790e+06      1.000      4.000   \n",
       "\n",
       "               Hypertension  PatientId  SMS_received  Scholarship  \n",
       "No-show                                                            \n",
       "No      count     88208.000  8.821e+04     88208.000    88208.000  \n",
       "        mean          0.204  1.477e+14         0.291        0.094  \n",
       "        std           0.403  2.564e+14         0.454        0.292  \n",
       "        min           0.000  3.922e+04         0.000        0.000  \n",
       "        25%           0.000  4.168e+12         0.000        0.000  \n",
       "        50%           0.000  3.176e+13         0.000        0.000  \n",
       "        75%           0.000  9.434e+13         1.000        0.000  \n",
       "        max           1.000  1.000e+15         1.000        1.000  \n",
       "Yes     count     22319.000  2.232e+04     22319.000    22319.000  \n",
       "        mean          0.169  1.468e+14         0.438        0.116  \n",
       "        std           0.375  2.550e+14         0.496        0.320  \n",
       "        min           0.000  5.628e+06         0.000        0.000  \n",
       "        25%           0.000  4.177e+12         0.000        0.000  \n",
       "        50%           0.000  3.157e+13         0.000        0.000  \n",
       "        75%           0.000  9.454e+13         1.000        0.000  \n",
       "        max           1.000  9.997e+14         1.000        1.000  "
      ]
     },
     "execution_count": 82,
     "metadata": {},
     "output_type": "execute_result"
    }
   ],
   "source": [
    "noshowup_summary = Med_data_df.groupby('No-show')\n",
    "noshowup_summary.describe()"
   ]
  },
  {
   "cell_type": "code",
   "execution_count": 83,
   "metadata": {
    "collapsed": false
   },
   "outputs": [
    {
     "name": "stdout",
     "output_type": "stream",
     "text": [
      "81\n"
     ]
    }
   ],
   "source": [
    "#Checking how many neighbourhood id it make sense to change to dummy variable\n",
    "Med_data_df.Neighbourhood.unique()\n",
    "print (data_df.Neighbourhood.nunique())"
   ]
  },
  {
   "cell_type": "code",
   "execution_count": 84,
   "metadata": {
    "collapsed": false
   },
   "outputs": [
    {
     "data": {
      "text/plain": [
       "PatientId         False\n",
       "AppointmentID     False\n",
       "Gender            False\n",
       "ScheduledDay      False\n",
       "AppointmentDay    False\n",
       "Age               False\n",
       "Neighbourhood     False\n",
       "Scholarship       False\n",
       "Hypertension      False\n",
       "Diabetes          False\n",
       "Alcoholism        False\n",
       "Handicap          False\n",
       "SMS_received      False\n",
       "No-show           False\n",
       "dtype: bool"
      ]
     },
     "execution_count": 84,
     "metadata": {},
     "output_type": "execute_result"
    }
   ],
   "source": [
    "#checking if there any missing or NaN value in the our dataset\n",
    "Med_data_df.isnull().any()"
   ]
  },
  {
   "cell_type": "code",
   "execution_count": 85,
   "metadata": {
    "collapsed": false
   },
   "outputs": [
    {
     "data": {
      "text/plain": [
       "PatientId         0\n",
       "AppointmentID     0\n",
       "Gender            0\n",
       "ScheduledDay      0\n",
       "AppointmentDay    0\n",
       "Age               0\n",
       "Neighbourhood     0\n",
       "Scholarship       0\n",
       "Hypertension      0\n",
       "Diabetes          0\n",
       "Alcoholism        0\n",
       "Handicap          0\n",
       "SMS_received      0\n",
       "No-show           0\n",
       "dtype: int64"
      ]
     },
     "execution_count": 85,
     "metadata": {},
     "output_type": "execute_result"
    }
   ],
   "source": [
    "#checking how many NaN value do we have in each column\n",
    "Med_data_df.isnull().sum()"
   ]
  },
  {
   "cell_type": "code",
   "execution_count": 109,
   "metadata": {
    "collapsed": false
   },
   "outputs": [
    {
     "name": "stdout",
     "output_type": "stream",
     "text": [
      "('Ages', [0, 1, 2, 3, 4, 5, 6, 7, 8, 9, 10, 11, 12, 13, 14, 15, 16, 17, 18, 19, 20, 21, 22, 23, 24, 25, 26, 27, 28, 29, 30, 31, 32, 33, 34, 35, 36, 37, 38, 39, 40, 41, 42, 43, 44, 45, 46, 47, 48, 49, 50, 51, 52, 53, 54, 55, 56, 57, 58, 59, 60, 61, 62, 63, 64, 65, 66, 67, 68, 69, 70, 71, 72, 73, 74, 75, 76, 77, 78, 79, 80, 81, 82, 83, 84, 85, 86, 87, 88, 89, 90, 91, 92, 93, 94, 95, 96, 97, 98, 99, 100, 102, 115])\n",
      "Gender O-Female, 1-Male [ 0.  1.]\n",
      "Degree of Handicap [0 1 2 3 4]\n",
      "Scheduled Day ['2016-04-29T18:38:08.000000000' '2016-04-29T16:08:27.000000000'\n",
      " '2016-04-29T16:19:04.000000000' ..., '2016-04-27T16:03:52.000000000'\n",
      " '2016-04-27T15:09:23.000000000' '2016-04-27T13:30:56.000000000']\n",
      "Scholarship [0 1]\n",
      "Alcholism [0 1]\n"
     ]
    }
   ],
   "source": [
    "print (\"Ages\", sorted(Med_data_df.Age.unique()))\n",
    "print 'Gender O-Female, 1-Male', Med_data_df.Gender_M.unique()\n",
    "print 'Degree of Handicap', Med_data_df.Handicap.unique()\n",
    "print  'Scheduled Day', Med_data_df.ScheduledDay.unique()\n",
    "print 'Scholarship', Med_data_df.Scholarship.unique()\n",
    "print 'Alcholism', Med_data_df.Alcoholism.unique()\n",
    "#print 'Appointment Day', Med_data_df.AppointmentDay.unique()\n"
   ]
  },
  {
   "cell_type": "code",
   "execution_count": 110,
   "metadata": {
    "collapsed": false
   },
   "outputs": [],
   "source": [
    "#removing bad data value, becasue we have only one data point\n",
    "Med_data_df = Med_data_df[Med_data_df['Age'] != -1]\n",
    "#Med_data_df.head(2)"
   ]
  },
  {
   "cell_type": "code",
   "execution_count": 111,
   "metadata": {
    "collapsed": false
   },
   "outputs": [
    {
     "data": {
      "text/html": [
       "<div>\n",
       "<table border=\"1\" class=\"dataframe\">\n",
       "  <thead>\n",
       "    <tr style=\"text-align: right;\">\n",
       "      <th></th>\n",
       "      <th>PatientId</th>\n",
       "      <th>AppointmentID</th>\n",
       "      <th>ScheduledDay</th>\n",
       "      <th>AppointmentDay</th>\n",
       "      <th>Neighbourhood</th>\n",
       "      <th>Age</th>\n",
       "      <th>Scholarship</th>\n",
       "      <th>Hypertension</th>\n",
       "      <th>Diabetes</th>\n",
       "      <th>Alcoholism</th>\n",
       "      <th>Handicap</th>\n",
       "      <th>SMS_received</th>\n",
       "      <th>Gender_M</th>\n",
       "      <th>No-Show_Yes</th>\n",
       "    </tr>\n",
       "  </thead>\n",
       "  <tbody>\n",
       "    <tr>\n",
       "      <th>0</th>\n",
       "      <td>2.987e+13</td>\n",
       "      <td>5642903</td>\n",
       "      <td>2016-04-29 18:38:08</td>\n",
       "      <td>2016-04-29</td>\n",
       "      <td>JARDIM DA PENHA</td>\n",
       "      <td>62</td>\n",
       "      <td>0</td>\n",
       "      <td>1</td>\n",
       "      <td>0</td>\n",
       "      <td>0</td>\n",
       "      <td>0</td>\n",
       "      <td>0</td>\n",
       "      <td>0.0</td>\n",
       "      <td>0.0</td>\n",
       "    </tr>\n",
       "    <tr>\n",
       "      <th>1</th>\n",
       "      <td>5.590e+14</td>\n",
       "      <td>5642503</td>\n",
       "      <td>2016-04-29 16:08:27</td>\n",
       "      <td>2016-04-29</td>\n",
       "      <td>JARDIM DA PENHA</td>\n",
       "      <td>56</td>\n",
       "      <td>0</td>\n",
       "      <td>0</td>\n",
       "      <td>0</td>\n",
       "      <td>0</td>\n",
       "      <td>0</td>\n",
       "      <td>0</td>\n",
       "      <td>1.0</td>\n",
       "      <td>0.0</td>\n",
       "    </tr>\n",
       "  </tbody>\n",
       "</table>\n",
       "</div>"
      ],
      "text/plain": [
       "   PatientId  AppointmentID        ScheduledDay AppointmentDay  \\\n",
       "0  2.987e+13        5642903 2016-04-29 18:38:08     2016-04-29   \n",
       "1  5.590e+14        5642503 2016-04-29 16:08:27     2016-04-29   \n",
       "\n",
       "     Neighbourhood  Age  Scholarship  Hypertension  Diabetes  Alcoholism  \\\n",
       "0  JARDIM DA PENHA   62            0             1         0           0   \n",
       "1  JARDIM DA PENHA   56            0             0         0           0   \n",
       "\n",
       "   Handicap  SMS_received  Gender_M  No-Show_Yes  \n",
       "0         0             0       0.0          0.0  \n",
       "1         0             0       1.0          0.0  "
      ]
     },
     "execution_count": 111,
     "metadata": {},
     "output_type": "execute_result"
    }
   ],
   "source": [
    "Med_data_df.head(2)"
   ]
  },
  {
   "cell_type": "code",
   "execution_count": 112,
   "metadata": {
    "collapsed": false
   },
   "outputs": [
    {
     "data": {
      "text/plain": [
       "<matplotlib.axes._subplots.AxesSubplot at 0x7fa58a949b10>"
      ]
     },
     "execution_count": 112,
     "metadata": {},
     "output_type": "execute_result"
    },
    {
     "data": {
      "image/png": "[encoded data removed]",
      "text/plain": [
       "<matplotlib.figure.Figure at 0x7fa58aa57c10>"
      ]
     },
     "metadata": {},
     "output_type": "display_data"
    }
   ],
   "source": [
    "#correlation matrix\n",
    "corr_df = Med_data_df.corr()\n",
    "sns.heatmap(corr_df)"
   ]
  },
  {
   "cell_type": "code",
   "execution_count": 94,
   "metadata": {
    "collapsed": false
   },
   "outputs": [
    {
     "data": {
      "text/html": [
       "<div>\n",
       "<table border=\"1\" class=\"dataframe\">\n",
       "  <thead>\n",
       "    <tr style=\"text-align: right;\">\n",
       "      <th></th>\n",
       "      <th>PatientId</th>\n",
       "      <th>AppointmentID</th>\n",
       "      <th>Gender</th>\n",
       "      <th>ScheduledDay</th>\n",
       "      <th>AppointmentDay</th>\n",
       "      <th>Age</th>\n",
       "      <th>Neighbourhood</th>\n",
       "      <th>Scholarship</th>\n",
       "      <th>Hypertension</th>\n",
       "      <th>Diabetes</th>\n",
       "      <th>Alcoholism</th>\n",
       "      <th>Handicap</th>\n",
       "      <th>SMS_received</th>\n",
       "      <th>No-show</th>\n",
       "      <th>Gender_M</th>\n",
       "    </tr>\n",
       "  </thead>\n",
       "  <tbody>\n",
       "    <tr>\n",
       "      <th>0</th>\n",
       "      <td>2.987e+13</td>\n",
       "      <td>5642903</td>\n",
       "      <td>F</td>\n",
       "      <td>2016-04-29 18:38:08</td>\n",
       "      <td>2016-04-29</td>\n",
       "      <td>62</td>\n",
       "      <td>JARDIM DA PENHA</td>\n",
       "      <td>0</td>\n",
       "      <td>1</td>\n",
       "      <td>0</td>\n",
       "      <td>0</td>\n",
       "      <td>0</td>\n",
       "      <td>0</td>\n",
       "      <td>No</td>\n",
       "      <td>0.0</td>\n",
       "    </tr>\n",
       "    <tr>\n",
       "      <th>1</th>\n",
       "      <td>5.590e+14</td>\n",
       "      <td>5642503</td>\n",
       "      <td>M</td>\n",
       "      <td>2016-04-29 16:08:27</td>\n",
       "      <td>2016-04-29</td>\n",
       "      <td>56</td>\n",
       "      <td>JARDIM DA PENHA</td>\n",
       "      <td>0</td>\n",
       "      <td>0</td>\n",
       "      <td>0</td>\n",
       "      <td>0</td>\n",
       "      <td>0</td>\n",
       "      <td>0</td>\n",
       "      <td>No</td>\n",
       "      <td>1.0</td>\n",
       "    </tr>\n",
       "    <tr>\n",
       "      <th>2</th>\n",
       "      <td>4.263e+12</td>\n",
       "      <td>5642549</td>\n",
       "      <td>F</td>\n",
       "      <td>2016-04-29 16:19:04</td>\n",
       "      <td>2016-04-29</td>\n",
       "      <td>62</td>\n",
       "      <td>MATA DA PRAIA</td>\n",
       "      <td>0</td>\n",
       "      <td>0</td>\n",
       "      <td>0</td>\n",
       "      <td>0</td>\n",
       "      <td>0</td>\n",
       "      <td>0</td>\n",
       "      <td>No</td>\n",
       "      <td>0.0</td>\n",
       "    </tr>\n",
       "  </tbody>\n",
       "</table>\n",
       "</div>"
      ],
      "text/plain": [
       "   PatientId  AppointmentID Gender        ScheduledDay AppointmentDay  Age  \\\n",
       "0  2.987e+13        5642903      F 2016-04-29 18:38:08     2016-04-29   62   \n",
       "1  5.590e+14        5642503      M 2016-04-29 16:08:27     2016-04-29   56   \n",
       "2  4.263e+12        5642549      F 2016-04-29 16:19:04     2016-04-29   62   \n",
       "\n",
       "     Neighbourhood  Scholarship  Hypertension  Diabetes  Alcoholism  Handicap  \\\n",
       "0  JARDIM DA PENHA            0             1         0           0         0   \n",
       "1  JARDIM DA PENHA            0             0         0           0         0   \n",
       "2    MATA DA PRAIA            0             0         0           0         0   \n",
       "\n",
       "   SMS_received No-show  Gender_M  \n",
       "0             0      No       0.0  \n",
       "1             0      No       1.0  \n",
       "2             0      No       0.0  "
      ]
     },
     "execution_count": 94,
     "metadata": {},
     "output_type": "execute_result"
    }
   ],
   "source": [
    "#creating duummy variable using pd.get_dimmies\n",
    "gender_dummies = pd.get_dummies(Med_data_df['Gender'], prefix='Gender').iloc[:, 1:]\n",
    "\n",
    "#concatenate dummy col with dataframe\n",
    "Med_data_df = pd.concat([Med_data_df, gender_dummies], axis=1)\n",
    "\n",
    "Med_data_df.head(3)"
   ]
  },
  {
   "cell_type": "code",
   "execution_count": 95,
   "metadata": {
    "collapsed": false
   },
   "outputs": [
    {
     "data": {
      "text/plain": [
       "array(['No', 'Yes'], dtype=object)"
      ]
     },
     "execution_count": 95,
     "metadata": {},
     "output_type": "execute_result"
    }
   ],
   "source": [
    "#checking target vaules\n",
    "Med_data_df['No-show'].unique()"
   ]
  },
  {
   "cell_type": "code",
   "execution_count": 96,
   "metadata": {
    "collapsed": false
   },
   "outputs": [
    {
     "data": {
      "text/html": [
       "<div>\n",
       "<table border=\"1\" class=\"dataframe\">\n",
       "  <thead>\n",
       "    <tr style=\"text-align: right;\">\n",
       "      <th></th>\n",
       "      <th>PatientId</th>\n",
       "      <th>AppointmentID</th>\n",
       "      <th>Gender</th>\n",
       "      <th>ScheduledDay</th>\n",
       "      <th>AppointmentDay</th>\n",
       "      <th>Age</th>\n",
       "      <th>Neighbourhood</th>\n",
       "      <th>Scholarship</th>\n",
       "      <th>Hypertension</th>\n",
       "      <th>Diabetes</th>\n",
       "      <th>Alcoholism</th>\n",
       "      <th>Handicap</th>\n",
       "      <th>SMS_received</th>\n",
       "      <th>No-show</th>\n",
       "      <th>Gender_M</th>\n",
       "      <th>No-Show_Yes</th>\n",
       "    </tr>\n",
       "  </thead>\n",
       "  <tbody>\n",
       "    <tr>\n",
       "      <th>0</th>\n",
       "      <td>2.987e+13</td>\n",
       "      <td>5642903</td>\n",
       "      <td>F</td>\n",
       "      <td>2016-04-29 18:38:08</td>\n",
       "      <td>2016-04-29</td>\n",
       "      <td>62</td>\n",
       "      <td>JARDIM DA PENHA</td>\n",
       "      <td>0</td>\n",
       "      <td>1</td>\n",
       "      <td>0</td>\n",
       "      <td>0</td>\n",
       "      <td>0</td>\n",
       "      <td>0</td>\n",
       "      <td>No</td>\n",
       "      <td>0.0</td>\n",
       "      <td>0.0</td>\n",
       "    </tr>\n",
       "    <tr>\n",
       "      <th>1</th>\n",
       "      <td>5.590e+14</td>\n",
       "      <td>5642503</td>\n",
       "      <td>M</td>\n",
       "      <td>2016-04-29 16:08:27</td>\n",
       "      <td>2016-04-29</td>\n",
       "      <td>56</td>\n",
       "      <td>JARDIM DA PENHA</td>\n",
       "      <td>0</td>\n",
       "      <td>0</td>\n",
       "      <td>0</td>\n",
       "      <td>0</td>\n",
       "      <td>0</td>\n",
       "      <td>0</td>\n",
       "      <td>No</td>\n",
       "      <td>1.0</td>\n",
       "      <td>0.0</td>\n",
       "    </tr>\n",
       "    <tr>\n",
       "      <th>2</th>\n",
       "      <td>4.263e+12</td>\n",
       "      <td>5642549</td>\n",
       "      <td>F</td>\n",
       "      <td>2016-04-29 16:19:04</td>\n",
       "      <td>2016-04-29</td>\n",
       "      <td>62</td>\n",
       "      <td>MATA DA PRAIA</td>\n",
       "      <td>0</td>\n",
       "      <td>0</td>\n",
       "      <td>0</td>\n",
       "      <td>0</td>\n",
       "      <td>0</td>\n",
       "      <td>0</td>\n",
       "      <td>No</td>\n",
       "      <td>0.0</td>\n",
       "      <td>0.0</td>\n",
       "    </tr>\n",
       "    <tr>\n",
       "      <th>3</th>\n",
       "      <td>8.680e+11</td>\n",
       "      <td>5642828</td>\n",
       "      <td>F</td>\n",
       "      <td>2016-04-29 17:29:31</td>\n",
       "      <td>2016-04-29</td>\n",
       "      <td>8</td>\n",
       "      <td>PONTAL DE CAMBURI</td>\n",
       "      <td>0</td>\n",
       "      <td>0</td>\n",
       "      <td>0</td>\n",
       "      <td>0</td>\n",
       "      <td>0</td>\n",
       "      <td>0</td>\n",
       "      <td>No</td>\n",
       "      <td>0.0</td>\n",
       "      <td>0.0</td>\n",
       "    </tr>\n",
       "    <tr>\n",
       "      <th>4</th>\n",
       "      <td>8.841e+12</td>\n",
       "      <td>5642494</td>\n",
       "      <td>F</td>\n",
       "      <td>2016-04-29 16:07:23</td>\n",
       "      <td>2016-04-29</td>\n",
       "      <td>56</td>\n",
       "      <td>JARDIM DA PENHA</td>\n",
       "      <td>0</td>\n",
       "      <td>1</td>\n",
       "      <td>1</td>\n",
       "      <td>0</td>\n",
       "      <td>0</td>\n",
       "      <td>0</td>\n",
       "      <td>No</td>\n",
       "      <td>0.0</td>\n",
       "      <td>0.0</td>\n",
       "    </tr>\n",
       "  </tbody>\n",
       "</table>\n",
       "</div>"
      ],
      "text/plain": [
       "   PatientId  AppointmentID Gender        ScheduledDay AppointmentDay  Age  \\\n",
       "0  2.987e+13        5642903      F 2016-04-29 18:38:08     2016-04-29   62   \n",
       "1  5.590e+14        5642503      M 2016-04-29 16:08:27     2016-04-29   56   \n",
       "2  4.263e+12        5642549      F 2016-04-29 16:19:04     2016-04-29   62   \n",
       "3  8.680e+11        5642828      F 2016-04-29 17:29:31     2016-04-29    8   \n",
       "4  8.841e+12        5642494      F 2016-04-29 16:07:23     2016-04-29   56   \n",
       "\n",
       "       Neighbourhood  Scholarship  Hypertension  Diabetes  Alcoholism  \\\n",
       "0    JARDIM DA PENHA            0             1         0           0   \n",
       "1    JARDIM DA PENHA            0             0         0           0   \n",
       "2      MATA DA PRAIA            0             0         0           0   \n",
       "3  PONTAL DE CAMBURI            0             0         0           0   \n",
       "4    JARDIM DA PENHA            0             1         1           0   \n",
       "\n",
       "   Handicap  SMS_received No-show  Gender_M  No-Show_Yes  \n",
       "0         0             0      No       0.0          0.0  \n",
       "1         0             0      No       1.0          0.0  \n",
       "2         0             0      No       0.0          0.0  \n",
       "3         0             0      No       0.0          0.0  \n",
       "4         0             0      No       0.0          0.0  "
      ]
     },
     "execution_count": 96,
     "metadata": {},
     "output_type": "execute_result"
    }
   ],
   "source": [
    "#create dummy variable for No-show variable\n",
    "noshow_dummies = pd.get_dummies(Med_data_df['No-show'], prefix='No-Show').iloc[:,1:]\n",
    "\n",
    "#concate dummy col with orig dataframe\n",
    "Med_data_df = pd.concat([Med_data_df, noshow_dummies], axis=1)\n",
    "\n",
    "Med_data_df.head()"
   ]
  },
  {
   "cell_type": "code",
   "execution_count": 97,
   "metadata": {
    "collapsed": false
   },
   "outputs": [
    {
     "data": {
      "text/html": [
       "<div>\n",
       "<table border=\"1\" class=\"dataframe\">\n",
       "  <thead>\n",
       "    <tr style=\"text-align: right;\">\n",
       "      <th></th>\n",
       "      <th>PatientId</th>\n",
       "      <th>AppointmentID</th>\n",
       "      <th>Age</th>\n",
       "      <th>Scholarship</th>\n",
       "      <th>Hypertension</th>\n",
       "      <th>Diabetes</th>\n",
       "      <th>Alcoholism</th>\n",
       "      <th>Handicap</th>\n",
       "      <th>SMS_received</th>\n",
       "      <th>Gender_M</th>\n",
       "      <th>No-Show_Yes</th>\n",
       "    </tr>\n",
       "  </thead>\n",
       "  <tbody>\n",
       "    <tr>\n",
       "      <th>PatientId</th>\n",
       "      <td>1.000</td>\n",
       "      <td>0.004</td>\n",
       "      <td>-0.004</td>\n",
       "      <td>-0.003</td>\n",
       "      <td>-0.006</td>\n",
       "      <td>0.002</td>\n",
       "      <td>1.101e-02</td>\n",
       "      <td>-0.008</td>\n",
       "      <td>-0.010</td>\n",
       "      <td>0.008</td>\n",
       "      <td>-1.456e-03</td>\n",
       "    </tr>\n",
       "    <tr>\n",
       "      <th>AppointmentID</th>\n",
       "      <td>0.004</td>\n",
       "      <td>1.000</td>\n",
       "      <td>-0.019</td>\n",
       "      <td>0.023</td>\n",
       "      <td>0.013</td>\n",
       "      <td>0.023</td>\n",
       "      <td>3.295e-02</td>\n",
       "      <td>0.014</td>\n",
       "      <td>-0.257</td>\n",
       "      <td>0.019</td>\n",
       "      <td>-1.626e-01</td>\n",
       "    </tr>\n",
       "    <tr>\n",
       "      <th>Age</th>\n",
       "      <td>-0.004</td>\n",
       "      <td>-0.019</td>\n",
       "      <td>1.000</td>\n",
       "      <td>-0.092</td>\n",
       "      <td>0.505</td>\n",
       "      <td>0.292</td>\n",
       "      <td>9.581e-02</td>\n",
       "      <td>0.078</td>\n",
       "      <td>0.013</td>\n",
       "      <td>-0.106</td>\n",
       "      <td>-6.033e-02</td>\n",
       "    </tr>\n",
       "    <tr>\n",
       "      <th>Scholarship</th>\n",
       "      <td>-0.003</td>\n",
       "      <td>0.023</td>\n",
       "      <td>-0.092</td>\n",
       "      <td>1.000</td>\n",
       "      <td>-0.020</td>\n",
       "      <td>-0.025</td>\n",
       "      <td>3.502e-02</td>\n",
       "      <td>-0.009</td>\n",
       "      <td>0.001</td>\n",
       "      <td>-0.114</td>\n",
       "      <td>2.913e-02</td>\n",
       "    </tr>\n",
       "    <tr>\n",
       "      <th>Hypertension</th>\n",
       "      <td>-0.006</td>\n",
       "      <td>0.013</td>\n",
       "      <td>0.505</td>\n",
       "      <td>-0.020</td>\n",
       "      <td>1.000</td>\n",
       "      <td>0.433</td>\n",
       "      <td>8.797e-02</td>\n",
       "      <td>0.080</td>\n",
       "      <td>-0.006</td>\n",
       "      <td>-0.056</td>\n",
       "      <td>-3.570e-02</td>\n",
       "    </tr>\n",
       "    <tr>\n",
       "      <th>Diabetes</th>\n",
       "      <td>0.002</td>\n",
       "      <td>0.023</td>\n",
       "      <td>0.292</td>\n",
       "      <td>-0.025</td>\n",
       "      <td>0.433</td>\n",
       "      <td>1.000</td>\n",
       "      <td>1.847e-02</td>\n",
       "      <td>0.058</td>\n",
       "      <td>-0.015</td>\n",
       "      <td>-0.033</td>\n",
       "      <td>-1.518e-02</td>\n",
       "    </tr>\n",
       "    <tr>\n",
       "      <th>Alcoholism</th>\n",
       "      <td>0.011</td>\n",
       "      <td>0.033</td>\n",
       "      <td>0.096</td>\n",
       "      <td>0.035</td>\n",
       "      <td>0.088</td>\n",
       "      <td>0.018</td>\n",
       "      <td>1.000e+00</td>\n",
       "      <td>0.005</td>\n",
       "      <td>-0.026</td>\n",
       "      <td>0.106</td>\n",
       "      <td>-1.968e-04</td>\n",
       "    </tr>\n",
       "    <tr>\n",
       "      <th>Handicap</th>\n",
       "      <td>-0.008</td>\n",
       "      <td>0.014</td>\n",
       "      <td>0.078</td>\n",
       "      <td>-0.009</td>\n",
       "      <td>0.080</td>\n",
       "      <td>0.058</td>\n",
       "      <td>4.647e-03</td>\n",
       "      <td>1.000</td>\n",
       "      <td>-0.024</td>\n",
       "      <td>0.023</td>\n",
       "      <td>-6.077e-03</td>\n",
       "    </tr>\n",
       "    <tr>\n",
       "      <th>SMS_received</th>\n",
       "      <td>-0.010</td>\n",
       "      <td>-0.257</td>\n",
       "      <td>0.013</td>\n",
       "      <td>0.001</td>\n",
       "      <td>-0.006</td>\n",
       "      <td>-0.015</td>\n",
       "      <td>-2.615e-02</td>\n",
       "      <td>-0.024</td>\n",
       "      <td>1.000</td>\n",
       "      <td>-0.046</td>\n",
       "      <td>1.264e-01</td>\n",
       "    </tr>\n",
       "    <tr>\n",
       "      <th>Gender_M</th>\n",
       "      <td>0.008</td>\n",
       "      <td>0.019</td>\n",
       "      <td>-0.106</td>\n",
       "      <td>-0.114</td>\n",
       "      <td>-0.056</td>\n",
       "      <td>-0.033</td>\n",
       "      <td>1.062e-01</td>\n",
       "      <td>0.023</td>\n",
       "      <td>-0.046</td>\n",
       "      <td>1.000</td>\n",
       "      <td>-4.122e-03</td>\n",
       "    </tr>\n",
       "    <tr>\n",
       "      <th>No-Show_Yes</th>\n",
       "      <td>-0.001</td>\n",
       "      <td>-0.163</td>\n",
       "      <td>-0.060</td>\n",
       "      <td>0.029</td>\n",
       "      <td>-0.036</td>\n",
       "      <td>-0.015</td>\n",
       "      <td>-1.968e-04</td>\n",
       "      <td>-0.006</td>\n",
       "      <td>0.126</td>\n",
       "      <td>-0.004</td>\n",
       "      <td>1.000e+00</td>\n",
       "    </tr>\n",
       "  </tbody>\n",
       "</table>\n",
       "</div>"
      ],
      "text/plain": [
       "               PatientId  AppointmentID    Age  Scholarship  Hypertension  \\\n",
       "PatientId          1.000          0.004 -0.004       -0.003        -0.006   \n",
       "AppointmentID      0.004          1.000 -0.019        0.023         0.013   \n",
       "Age               -0.004         -0.019  1.000       -0.092         0.505   \n",
       "Scholarship       -0.003          0.023 -0.092        1.000        -0.020   \n",
       "Hypertension      -0.006          0.013  0.505       -0.020         1.000   \n",
       "Diabetes           0.002          0.023  0.292       -0.025         0.433   \n",
       "Alcoholism         0.011          0.033  0.096        0.035         0.088   \n",
       "Handicap          -0.008          0.014  0.078       -0.009         0.080   \n",
       "SMS_received      -0.010         -0.257  0.013        0.001        -0.006   \n",
       "Gender_M           0.008          0.019 -0.106       -0.114        -0.056   \n",
       "No-Show_Yes       -0.001         -0.163 -0.060        0.029        -0.036   \n",
       "\n",
       "               Diabetes  Alcoholism  Handicap  SMS_received  Gender_M  \\\n",
       "PatientId         0.002   1.101e-02    -0.008        -0.010     0.008   \n",
       "AppointmentID     0.023   3.295e-02     0.014        -0.257     0.019   \n",
       "Age               0.292   9.581e-02     0.078         0.013    -0.106   \n",
       "Scholarship      -0.025   3.502e-02    -0.009         0.001    -0.114   \n",
       "Hypertension      0.433   8.797e-02     0.080        -0.006    -0.056   \n",
       "Diabetes          1.000   1.847e-02     0.058        -0.015    -0.033   \n",
       "Alcoholism        0.018   1.000e+00     0.005        -0.026     0.106   \n",
       "Handicap          0.058   4.647e-03     1.000        -0.024     0.023   \n",
       "SMS_received     -0.015  -2.615e-02    -0.024         1.000    -0.046   \n",
       "Gender_M         -0.033   1.062e-01     0.023        -0.046     1.000   \n",
       "No-Show_Yes      -0.015  -1.968e-04    -0.006         0.126    -0.004   \n",
       "\n",
       "               No-Show_Yes  \n",
       "PatientId       -1.456e-03  \n",
       "AppointmentID   -1.626e-01  \n",
       "Age             -6.033e-02  \n",
       "Scholarship      2.913e-02  \n",
       "Hypertension    -3.570e-02  \n",
       "Diabetes        -1.518e-02  \n",
       "Alcoholism      -1.968e-04  \n",
       "Handicap        -6.077e-03  \n",
       "SMS_received     1.264e-01  \n",
       "Gender_M        -4.122e-03  \n",
       "No-Show_Yes      1.000e+00  "
      ]
     },
     "execution_count": 97,
     "metadata": {},
     "output_type": "execute_result"
    }
   ],
   "source": [
    "#correlations between atrributes\n",
    "Med_data_df.corr(method='pearson')"
   ]
  },
  {
   "cell_type": "code",
   "execution_count": 120,
   "metadata": {
    "collapsed": false
   },
   "outputs": [
    {
     "data": {
      "text/html": [
       "<div>\n",
       "<table border=\"1\" class=\"dataframe\">\n",
       "  <thead>\n",
       "    <tr style=\"text-align: right;\">\n",
       "      <th></th>\n",
       "      <th>PatientId</th>\n",
       "      <th>AppointmentID</th>\n",
       "      <th>ScheduledDay</th>\n",
       "      <th>AppointmentDay</th>\n",
       "      <th>Neighbourhood</th>\n",
       "      <th>Age</th>\n",
       "      <th>Scholarship</th>\n",
       "      <th>Hypertension</th>\n",
       "      <th>Diabetes</th>\n",
       "      <th>Alcoholism</th>\n",
       "      <th>Handicap</th>\n",
       "      <th>SMS_received</th>\n",
       "      <th>Gender</th>\n",
       "      <th>NoShowUp</th>\n",
       "    </tr>\n",
       "  </thead>\n",
       "  <tbody>\n",
       "    <tr>\n",
       "      <th>0</th>\n",
       "      <td>2.987e+13</td>\n",
       "      <td>5642903</td>\n",
       "      <td>2016-04-29 18:38:08</td>\n",
       "      <td>2016-04-29</td>\n",
       "      <td>JARDIM DA PENHA</td>\n",
       "      <td>62</td>\n",
       "      <td>0</td>\n",
       "      <td>1</td>\n",
       "      <td>0</td>\n",
       "      <td>0</td>\n",
       "      <td>0</td>\n",
       "      <td>0</td>\n",
       "      <td>0.0</td>\n",
       "      <td>0.0</td>\n",
       "    </tr>\n",
       "    <tr>\n",
       "      <th>1</th>\n",
       "      <td>5.590e+14</td>\n",
       "      <td>5642503</td>\n",
       "      <td>2016-04-29 16:08:27</td>\n",
       "      <td>2016-04-29</td>\n",
       "      <td>JARDIM DA PENHA</td>\n",
       "      <td>56</td>\n",
       "      <td>0</td>\n",
       "      <td>0</td>\n",
       "      <td>0</td>\n",
       "      <td>0</td>\n",
       "      <td>0</td>\n",
       "      <td>0</td>\n",
       "      <td>1.0</td>\n",
       "      <td>0.0</td>\n",
       "    </tr>\n",
       "    <tr>\n",
       "      <th>2</th>\n",
       "      <td>4.263e+12</td>\n",
       "      <td>5642549</td>\n",
       "      <td>2016-04-29 16:19:04</td>\n",
       "      <td>2016-04-29</td>\n",
       "      <td>MATA DA PRAIA</td>\n",
       "      <td>62</td>\n",
       "      <td>0</td>\n",
       "      <td>0</td>\n",
       "      <td>0</td>\n",
       "      <td>0</td>\n",
       "      <td>0</td>\n",
       "      <td>0</td>\n",
       "      <td>0.0</td>\n",
       "      <td>0.0</td>\n",
       "    </tr>\n",
       "  </tbody>\n",
       "</table>\n",
       "</div>"
      ],
      "text/plain": [
       "   PatientId  AppointmentID        ScheduledDay AppointmentDay  \\\n",
       "0  2.987e+13        5642903 2016-04-29 18:38:08     2016-04-29   \n",
       "1  5.590e+14        5642503 2016-04-29 16:08:27     2016-04-29   \n",
       "2  4.263e+12        5642549 2016-04-29 16:19:04     2016-04-29   \n",
       "\n",
       "     Neighbourhood  Age  Scholarship  Hypertension  Diabetes  Alcoholism  \\\n",
       "0  JARDIM DA PENHA   62            0             1         0           0   \n",
       "1  JARDIM DA PENHA   56            0             0         0           0   \n",
       "2    MATA DA PRAIA   62            0             0         0           0   \n",
       "\n",
       "   Handicap  SMS_received  Gender  NoShowUp  \n",
       "0         0             0     0.0       0.0  \n",
       "1         0             0     1.0       0.0  \n",
       "2         0             0     0.0       0.0  "
      ]
     },
     "execution_count": 120,
     "metadata": {},
     "output_type": "execute_result"
    }
   ],
   "source": [
    "#rename column\n",
    "# Gender- 1:Male, 0: Female\n",
    "# NoShowUp- 1: No, 0: Yes\n",
    "Med_data_df.rename(columns={'Gender_M': 'Gender', 'No-Show_Yes': 'NoShowUp'}, inplace=True)\n",
    "Med_data_df =  Med_data_df[['PatientId', 'AppointmentID', 'ScheduledDay', 'AppointmentDay','Neighbourhood', 'Age', 'Scholarship', 'Hypertension', 'Diabetes', 'Alcoholism', 'Handicap', 'SMS_received', 'Gender', 'NoShowUp']]\n",
    "Med_data_df.head(3)"
   ]
  },
  {
   "cell_type": "code",
   "execution_count": 121,
   "metadata": {
    "collapsed": false
   },
   "outputs": [
    {
     "data": {
      "text/plain": [
       "<matplotlib.text.Text at 0x7fa58a6f9e50>"
      ]
     },
     "execution_count": 121,
     "metadata": {},
     "output_type": "execute_result"
    },
    {
     "data": {
      "image/png": "[encoded data removed]",
      "text/plain": [
       "<matplotlib.figure.Figure at 0x7fa58aa9bbd0>"
      ]
     },
     "metadata": {},
     "output_type": "display_data"
    }
   ],
   "source": [
    "# Kernel Density Plot\n",
    "fig = plt.figure(figsize=(15,4),)\n",
    "ax=sns.kdeplot(Med_data_df.loc[(Med_data_df['NoShowUp'] == 0),'Age'] , color='b',shade=True,label='Pateint show up Age')\n",
    "ax=sns.kdeplot(Med_data_df.loc[(Med_data_df['NoShowUp'] == 1),'Age'] , color='r',shade=True, label='Pateint do notshow up Age')\n",
    "plt.title('Pateint Age Distribution -ShowUp V.S. No ShowUp')"
   ]
  },
  {
   "cell_type": "code",
   "execution_count": 123,
   "metadata": {
    "collapsed": false
   },
   "outputs": [
    {
     "name": "stdout",
     "output_type": "stream",
     "text": [
      "Mean of Age population is:37.0892188263\n",
      "Mean of Age didn't No-show up:34.3176665621\n"
     ]
    }
   ],
   "source": [
    "#Let's compare Age for Pateint showup and no-showup\n",
    "age_pop = Med_data_df['Age'].mean()\n",
    "noshow_age = Med_data_df[Med_data_df['NoShowUp']==1]['Age'].mean()\n",
    "\n",
    "print ('Mean of Age population is:' +str(age_pop))\n",
    "print (\"Mean of Age didn't No-show up:\" +str(noshow_age))"
   ]
  },
  {
   "cell_type": "code",
   "execution_count": 124,
   "metadata": {
    "collapsed": false
   },
   "outputs": [
    {
     "data": {
      "text/plain": [
       "110526"
      ]
     },
     "execution_count": 124,
     "metadata": {},
     "output_type": "execute_result"
    }
   ],
   "source": [
    "sample_age = np.array(Med_data_df['Age'])\n",
    "Med_data_df.Age.count()"
   ]
  },
  {
   "cell_type": "code",
   "execution_count": 125,
   "metadata": {
    "collapsed": false
   },
   "outputs": [
    {
     "name": "stdout",
     "output_type": "stream",
     "text": [
      "50-percentile: 37.0\n",
      "Mean of sample ages 37.0892188263\n"
     ]
    }
   ],
   "source": [
    "print\"50-percentile:\", np.percentile(sample_age, 50)\n",
    "print \"Mean of sample ages\", np.mean(sample_age)"
   ]
  },
  {
   "cell_type": "code",
   "execution_count": 126,
   "metadata": {
    "collapsed": false
   },
   "outputs": [
    {
     "data": {
      "text/plain": [
       "<matplotlib.axes._subplots.AxesSubplot at 0x7fa58a7fabd0>"
      ]
     },
     "execution_count": 126,
     "metadata": {},
     "output_type": "execute_result"
    },
    {
     "data": {
      "image/png": "[encoded data removed]",
      "text/plain": [
       "<matplotlib.figure.Figure at 0x7fa58a7bb250>"
      ]
     },
     "metadata": {},
     "output_type": "display_data"
    }
   ],
   "source": [
    "#Bootstrap on Age features\n",
    "import seaborn as sns\n",
    "\n",
    "def mean_sample_dist():\n",
    "    sample_from_samples = np.random.choice(sample_age, len(Med_data_df.Age))\n",
    "    return np.mean(sample_from_samples)\n",
    "\n",
    "sample_from_sampling_dist = [mean_sample_dist() for _ in range(9999)]\n",
    "\n",
    "sns.distplot(sample_from_sampling_dist)"
   ]
  },
  {
   "cell_type": "code",
   "execution_count": 127,
   "metadata": {
    "collapsed": false
   },
   "outputs": [
    {
     "name": "stdout",
     "output_type": "stream",
     "text": [
      "36.9534715813\n",
      "37.2235921865\n"
     ]
    }
   ],
   "source": [
    "#Confidence interval of CI=95%\n",
    "print np.percentile(sample_from_sampling_dist, 2.5)\n",
    "print np.percentile(sample_from_sampling_dist, 97.5)"
   ]
  },
  {
   "cell_type": "code",
   "execution_count": 129,
   "metadata": {
    "collapsed": false
   },
   "outputs": [
    {
     "data": {
      "text/plain": [
       "Ttest_1sampResult(statistic=-18.849968798209073, pvalue=1.2010360201795914e-78)"
      ]
     },
     "execution_count": 129,
     "metadata": {},
     "output_type": "execute_result"
    }
   ],
   "source": [
    "import scipy.stats as stats\n",
    "\n",
    "stats.ttest_1samp(Med_data_df[Med_data_df['NoShowUp']==1]['Age'], age_pop)"
   ]
  },
  {
   "cell_type": "markdown",
   "metadata": {},
   "source": [
    "This test statistic tells us how much the sample mean deviates from the null hypothesis. "
   ]
  },
  {
   "cell_type": "markdown",
   "metadata": {},
   "source": [
    "Based on the statistical analysis of a one sample _t-test_ and _p-value_, there seems to be some significant difference between the means of ages between patients who didn't show-up and the entire pateint population. The super-low of _p-value_ `1.2010360201795914e-78` at 5% of CI is a good indicator for _rejecting the null hypothesis_."
   ]
  },
  {
   "cell_type": "code",
   "execution_count": 130,
   "metadata": {
    "collapsed": false
   },
   "outputs": [
    {
     "data": {
      "text/html": [
       "<div>\n",
       "<table border=\"1\" class=\"dataframe\">\n",
       "  <thead>\n",
       "    <tr style=\"text-align: right;\">\n",
       "      <th></th>\n",
       "      <th>PatientId</th>\n",
       "      <th>AppointmentID</th>\n",
       "      <th>ScheduledDay</th>\n",
       "      <th>AppointmentDay</th>\n",
       "      <th>Neighbourhood</th>\n",
       "      <th>Age</th>\n",
       "      <th>Scholarship</th>\n",
       "      <th>Hypertension</th>\n",
       "      <th>Diabetes</th>\n",
       "      <th>Alcoholism</th>\n",
       "      <th>Handicap</th>\n",
       "      <th>SMS_received</th>\n",
       "      <th>Gender</th>\n",
       "      <th>NoShowUp</th>\n",
       "    </tr>\n",
       "  </thead>\n",
       "  <tbody>\n",
       "    <tr>\n",
       "      <th>0</th>\n",
       "      <td>2.987e+13</td>\n",
       "      <td>5642903</td>\n",
       "      <td>2016-04-29 18:38:08</td>\n",
       "      <td>2016-04-29</td>\n",
       "      <td>JARDIM DA PENHA</td>\n",
       "      <td>62</td>\n",
       "      <td>0</td>\n",
       "      <td>1</td>\n",
       "      <td>0</td>\n",
       "      <td>0</td>\n",
       "      <td>0</td>\n",
       "      <td>0</td>\n",
       "      <td>0.0</td>\n",
       "      <td>0.0</td>\n",
       "    </tr>\n",
       "    <tr>\n",
       "      <th>1</th>\n",
       "      <td>5.590e+14</td>\n",
       "      <td>5642503</td>\n",
       "      <td>2016-04-29 16:08:27</td>\n",
       "      <td>2016-04-29</td>\n",
       "      <td>JARDIM DA PENHA</td>\n",
       "      <td>56</td>\n",
       "      <td>0</td>\n",
       "      <td>0</td>\n",
       "      <td>0</td>\n",
       "      <td>0</td>\n",
       "      <td>0</td>\n",
       "      <td>0</td>\n",
       "      <td>1.0</td>\n",
       "      <td>0.0</td>\n",
       "    </tr>\n",
       "  </tbody>\n",
       "</table>\n",
       "</div>"
      ],
      "text/plain": [
       "   PatientId  AppointmentID        ScheduledDay AppointmentDay  \\\n",
       "0  2.987e+13        5642903 2016-04-29 18:38:08     2016-04-29   \n",
       "1  5.590e+14        5642503 2016-04-29 16:08:27     2016-04-29   \n",
       "\n",
       "     Neighbourhood  Age  Scholarship  Hypertension  Diabetes  Alcoholism  \\\n",
       "0  JARDIM DA PENHA   62            0             1         0           0   \n",
       "1  JARDIM DA PENHA   56            0             0         0           0   \n",
       "\n",
       "   Handicap  SMS_received  Gender  NoShowUp  \n",
       "0         0             0     0.0       0.0  \n",
       "1         0             0     1.0       0.0  "
      ]
     },
     "execution_count": 130,
     "metadata": {},
     "output_type": "execute_result"
    }
   ],
   "source": [
    "Med_data_df.head(2)"
   ]
  },
  {
   "cell_type": "code",
   "execution_count": 131,
   "metadata": {
    "collapsed": false
   },
   "outputs": [
    {
     "data": {
      "text/html": [
       "<div>\n",
       "<table border=\"1\" class=\"dataframe\">\n",
       "  <thead>\n",
       "    <tr style=\"text-align: right;\">\n",
       "      <th></th>\n",
       "      <th>PatientId</th>\n",
       "      <th>AppointmentID</th>\n",
       "      <th>ScheduledDay</th>\n",
       "      <th>AppointmentDay</th>\n",
       "      <th>Neighbourhood</th>\n",
       "      <th>Age</th>\n",
       "      <th>Scholarship</th>\n",
       "      <th>Hypertension</th>\n",
       "      <th>Diabetes</th>\n",
       "      <th>Alcoholism</th>\n",
       "      <th>Handicap</th>\n",
       "      <th>SMS_received</th>\n",
       "      <th>Gender</th>\n",
       "      <th>NoShowUp</th>\n",
       "      <th>Age_class</th>\n",
       "    </tr>\n",
       "  </thead>\n",
       "  <tbody>\n",
       "    <tr>\n",
       "      <th>0</th>\n",
       "      <td>2.987e+13</td>\n",
       "      <td>5642903</td>\n",
       "      <td>2016-04-29 18:38:08</td>\n",
       "      <td>2016-04-29</td>\n",
       "      <td>JARDIM DA PENHA</td>\n",
       "      <td>62</td>\n",
       "      <td>0</td>\n",
       "      <td>1</td>\n",
       "      <td>0</td>\n",
       "      <td>0</td>\n",
       "      <td>0</td>\n",
       "      <td>0</td>\n",
       "      <td>0.0</td>\n",
       "      <td>0.0</td>\n",
       "      <td>Adult</td>\n",
       "    </tr>\n",
       "    <tr>\n",
       "      <th>1</th>\n",
       "      <td>5.590e+14</td>\n",
       "      <td>5642503</td>\n",
       "      <td>2016-04-29 16:08:27</td>\n",
       "      <td>2016-04-29</td>\n",
       "      <td>JARDIM DA PENHA</td>\n",
       "      <td>56</td>\n",
       "      <td>0</td>\n",
       "      <td>0</td>\n",
       "      <td>0</td>\n",
       "      <td>0</td>\n",
       "      <td>0</td>\n",
       "      <td>0</td>\n",
       "      <td>1.0</td>\n",
       "      <td>0.0</td>\n",
       "      <td>Adult</td>\n",
       "    </tr>\n",
       "    <tr>\n",
       "      <th>2</th>\n",
       "      <td>4.263e+12</td>\n",
       "      <td>5642549</td>\n",
       "      <td>2016-04-29 16:19:04</td>\n",
       "      <td>2016-04-29</td>\n",
       "      <td>MATA DA PRAIA</td>\n",
       "      <td>62</td>\n",
       "      <td>0</td>\n",
       "      <td>0</td>\n",
       "      <td>0</td>\n",
       "      <td>0</td>\n",
       "      <td>0</td>\n",
       "      <td>0</td>\n",
       "      <td>0.0</td>\n",
       "      <td>0.0</td>\n",
       "      <td>Adult</td>\n",
       "    </tr>\n",
       "    <tr>\n",
       "      <th>3</th>\n",
       "      <td>8.680e+11</td>\n",
       "      <td>5642828</td>\n",
       "      <td>2016-04-29 17:29:31</td>\n",
       "      <td>2016-04-29</td>\n",
       "      <td>PONTAL DE CAMBURI</td>\n",
       "      <td>8</td>\n",
       "      <td>0</td>\n",
       "      <td>0</td>\n",
       "      <td>0</td>\n",
       "      <td>0</td>\n",
       "      <td>0</td>\n",
       "      <td>0</td>\n",
       "      <td>0.0</td>\n",
       "      <td>0.0</td>\n",
       "      <td>Youth</td>\n",
       "    </tr>\n",
       "    <tr>\n",
       "      <th>4</th>\n",
       "      <td>8.841e+12</td>\n",
       "      <td>5642494</td>\n",
       "      <td>2016-04-29 16:07:23</td>\n",
       "      <td>2016-04-29</td>\n",
       "      <td>JARDIM DA PENHA</td>\n",
       "      <td>56</td>\n",
       "      <td>0</td>\n",
       "      <td>1</td>\n",
       "      <td>1</td>\n",
       "      <td>0</td>\n",
       "      <td>0</td>\n",
       "      <td>0</td>\n",
       "      <td>0.0</td>\n",
       "      <td>0.0</td>\n",
       "      <td>Adult</td>\n",
       "    </tr>\n",
       "  </tbody>\n",
       "</table>\n",
       "</div>"
      ],
      "text/plain": [
       "   PatientId  AppointmentID        ScheduledDay AppointmentDay  \\\n",
       "0  2.987e+13        5642903 2016-04-29 18:38:08     2016-04-29   \n",
       "1  5.590e+14        5642503 2016-04-29 16:08:27     2016-04-29   \n",
       "2  4.263e+12        5642549 2016-04-29 16:19:04     2016-04-29   \n",
       "3  8.680e+11        5642828 2016-04-29 17:29:31     2016-04-29   \n",
       "4  8.841e+12        5642494 2016-04-29 16:07:23     2016-04-29   \n",
       "\n",
       "       Neighbourhood  Age  Scholarship  Hypertension  Diabetes  Alcoholism  \\\n",
       "0    JARDIM DA PENHA   62            0             1         0           0   \n",
       "1    JARDIM DA PENHA   56            0             0         0           0   \n",
       "2      MATA DA PRAIA   62            0             0         0           0   \n",
       "3  PONTAL DE CAMBURI    8            0             0         0           0   \n",
       "4    JARDIM DA PENHA   56            0             1         1           0   \n",
       "\n",
       "   Handicap  SMS_received  Gender  NoShowUp Age_class  \n",
       "0         0             0     0.0       0.0     Adult  \n",
       "1         0             0     1.0       0.0     Adult  \n",
       "2         0             0     0.0       0.0     Adult  \n",
       "3         0             0     0.0       0.0     Youth  \n",
       "4         0             0     0.0       0.0     Adult  "
      ]
     },
     "execution_count": 131,
     "metadata": {},
     "output_type": "execute_result"
    }
   ],
   "source": [
    "#Youth = Med_data_df[(Med_data_df.Age < 18)]\n",
    "#Millennial = Med_data_df[(Med_data_df.Age>=18) & (Med_data_df<35)]\n",
    "#Gen_x =Med_data_df[(Med_data_df.Age>=35) & (Med_data_df.Age<50)]\n",
    "\n",
    "Med_data_df['Age_class'] = np.where(Med_data_df['Age']<18, 'Youth', 'Adult')\n",
    "Med_data_df.head()"
   ]
  },
  {
   "cell_type": "code",
   "execution_count": 132,
   "metadata": {
    "collapsed": false
   },
   "outputs": [
    {
     "data": {
      "text/html": [
       "<div>\n",
       "<table border=\"1\" class=\"dataframe\">\n",
       "  <thead>\n",
       "    <tr style=\"text-align: right;\">\n",
       "      <th></th>\n",
       "      <th>PatientId</th>\n",
       "      <th>AppointmentID</th>\n",
       "      <th>ScheduledDay</th>\n",
       "      <th>AppointmentDay</th>\n",
       "      <th>Neighbourhood</th>\n",
       "      <th>Age</th>\n",
       "      <th>Scholarship</th>\n",
       "      <th>Hypertension</th>\n",
       "      <th>Diabetes</th>\n",
       "      <th>Alcoholism</th>\n",
       "      <th>Handicap</th>\n",
       "      <th>SMS_received</th>\n",
       "      <th>Age_class</th>\n",
       "      <th>Gender</th>\n",
       "      <th>NoShowUp</th>\n",
       "    </tr>\n",
       "  </thead>\n",
       "  <tbody>\n",
       "    <tr>\n",
       "      <th>0</th>\n",
       "      <td>2.987e+13</td>\n",
       "      <td>5642903</td>\n",
       "      <td>2016-04-29 18:38:08</td>\n",
       "      <td>2016-04-29</td>\n",
       "      <td>JARDIM DA PENHA</td>\n",
       "      <td>62</td>\n",
       "      <td>0</td>\n",
       "      <td>1</td>\n",
       "      <td>0</td>\n",
       "      <td>0</td>\n",
       "      <td>0</td>\n",
       "      <td>0</td>\n",
       "      <td>Adult</td>\n",
       "      <td>0.0</td>\n",
       "      <td>0.0</td>\n",
       "    </tr>\n",
       "    <tr>\n",
       "      <th>1</th>\n",
       "      <td>5.590e+14</td>\n",
       "      <td>5642503</td>\n",
       "      <td>2016-04-29 16:08:27</td>\n",
       "      <td>2016-04-29</td>\n",
       "      <td>JARDIM DA PENHA</td>\n",
       "      <td>56</td>\n",
       "      <td>0</td>\n",
       "      <td>0</td>\n",
       "      <td>0</td>\n",
       "      <td>0</td>\n",
       "      <td>0</td>\n",
       "      <td>0</td>\n",
       "      <td>Adult</td>\n",
       "      <td>1.0</td>\n",
       "      <td>0.0</td>\n",
       "    </tr>\n",
       "    <tr>\n",
       "      <th>2</th>\n",
       "      <td>4.263e+12</td>\n",
       "      <td>5642549</td>\n",
       "      <td>2016-04-29 16:19:04</td>\n",
       "      <td>2016-04-29</td>\n",
       "      <td>MATA DA PRAIA</td>\n",
       "      <td>62</td>\n",
       "      <td>0</td>\n",
       "      <td>0</td>\n",
       "      <td>0</td>\n",
       "      <td>0</td>\n",
       "      <td>0</td>\n",
       "      <td>0</td>\n",
       "      <td>Adult</td>\n",
       "      <td>0.0</td>\n",
       "      <td>0.0</td>\n",
       "    </tr>\n",
       "  </tbody>\n",
       "</table>\n",
       "</div>"
      ],
      "text/plain": [
       "   PatientId  AppointmentID        ScheduledDay AppointmentDay  \\\n",
       "0  2.987e+13        5642903 2016-04-29 18:38:08     2016-04-29   \n",
       "1  5.590e+14        5642503 2016-04-29 16:08:27     2016-04-29   \n",
       "2  4.263e+12        5642549 2016-04-29 16:19:04     2016-04-29   \n",
       "\n",
       "     Neighbourhood  Age  Scholarship  Hypertension  Diabetes  Alcoholism  \\\n",
       "0  JARDIM DA PENHA   62            0             1         0           0   \n",
       "1  JARDIM DA PENHA   56            0             0         0           0   \n",
       "2    MATA DA PRAIA   62            0             0         0           0   \n",
       "\n",
       "   Handicap  SMS_received Age_class  Gender  NoShowUp  \n",
       "0         0             0     Adult     0.0       0.0  \n",
       "1         0             0     Adult     1.0       0.0  \n",
       "2         0             0     Adult     0.0       0.0  "
      ]
     },
     "execution_count": 132,
     "metadata": {},
     "output_type": "execute_result"
    }
   ],
   "source": [
    "#rename column\n",
    "# Gender- 1:Male, 0: Female\n",
    "# NoShowUp- 1: No, 0: Yes\n",
    "#Med_data_df.rename(columns={'Gender_M': 'Gender', 'No-Show_Yes': 'NoShowUp'}, inplace=True)\n",
    "Med_data_df =  Med_data_df[['PatientId', 'AppointmentID', 'ScheduledDay', 'AppointmentDay','Neighbourhood', 'Age', 'Scholarship', 'Hypertension', 'Diabetes', 'Alcoholism', 'Handicap', 'SMS_received', 'Age_class', 'Gender', 'NoShowUp']]\n",
    "Med_data_df.head(3)"
   ]
  },
  {
   "cell_type": "code",
   "execution_count": 133,
   "metadata": {
    "collapsed": false
   },
   "outputs": [
    {
     "data": {
      "text/plain": [
       "Age_class\n",
       "Adult    83147\n",
       "Youth    27379\n",
       "dtype: int64"
      ]
     },
     "execution_count": 133,
     "metadata": {},
     "output_type": "execute_result"
    }
   ],
   "source": [
    "age_class = Med_data_df.groupby('Age_class').size()\n",
    "age_class"
   ]
  },
  {
   "cell_type": "markdown",
   "metadata": {},
   "source": [
    "## Evaluate Algorithms "
   ]
  },
  {
   "cell_type": "markdown",
   "metadata": {},
   "source": [
    "Many machine learning algorithm make assumpution about your data. Its very good to carefully look the structure of the data. There are different rescaling method, in this case I will use Binarize data for preprocessing Age feature."
   ]
  },
  {
   "cell_type": "code",
   "execution_count": 134,
   "metadata": {
    "collapsed": true
   },
   "outputs": [],
   "source": [
    "from sklearn.preprocessing import StandardScaler\n",
    "from sklearn.model_selection import train_test_split, cross_val_score, GridSearchCV, KFold\n",
    "from sklearn.metrics import classification_report, confusion_matrix, accuracy_score\n",
    "from sklearn.preprocessing import StandardScaler, Binarizer\n",
    "from sklearn.pipeline import Pipeline\n",
    "\n",
    "from sklearn.linear_model import LogisticRegression\n",
    "from sklearn.neighbors import KNeighborsClassifier\n",
    "from sklearn.naive_bayes import GaussianNB\n",
    "from sklearn.tree import DecisionTreeClassifier\n",
    "from sklearn.ensemble import RandomForestClassifier"
   ]
  },
  {
   "cell_type": "code",
   "execution_count": 144,
   "metadata": {
    "collapsed": false
   },
   "outputs": [
    {
     "data": {
      "text/html": [
       "<div>\n",
       "<table border=\"1\" class=\"dataframe\">\n",
       "  <thead>\n",
       "    <tr style=\"text-align: right;\">\n",
       "      <th></th>\n",
       "      <th>PatientId</th>\n",
       "      <th>AppointmentID</th>\n",
       "      <th>Age</th>\n",
       "      <th>Scholarship</th>\n",
       "      <th>Hypertension</th>\n",
       "      <th>Diabetes</th>\n",
       "      <th>Alcoholism</th>\n",
       "      <th>Handicap</th>\n",
       "      <th>SMS_received</th>\n",
       "      <th>Gender</th>\n",
       "    </tr>\n",
       "  </thead>\n",
       "  <tbody>\n",
       "    <tr>\n",
       "      <th>0</th>\n",
       "      <td>29872499824296</td>\n",
       "      <td>5642903</td>\n",
       "      <td>62</td>\n",
       "      <td>0</td>\n",
       "      <td>1</td>\n",
       "      <td>0</td>\n",
       "      <td>0</td>\n",
       "      <td>0</td>\n",
       "      <td>0</td>\n",
       "      <td>0</td>\n",
       "    </tr>\n",
       "    <tr>\n",
       "      <th>1</th>\n",
       "      <td>558997776694438</td>\n",
       "      <td>5642503</td>\n",
       "      <td>56</td>\n",
       "      <td>0</td>\n",
       "      <td>0</td>\n",
       "      <td>0</td>\n",
       "      <td>0</td>\n",
       "      <td>0</td>\n",
       "      <td>0</td>\n",
       "      <td>1</td>\n",
       "    </tr>\n",
       "    <tr>\n",
       "      <th>2</th>\n",
       "      <td>4262962299951</td>\n",
       "      <td>5642549</td>\n",
       "      <td>62</td>\n",
       "      <td>0</td>\n",
       "      <td>0</td>\n",
       "      <td>0</td>\n",
       "      <td>0</td>\n",
       "      <td>0</td>\n",
       "      <td>0</td>\n",
       "      <td>0</td>\n",
       "    </tr>\n",
       "    <tr>\n",
       "      <th>3</th>\n",
       "      <td>867951213174</td>\n",
       "      <td>5642828</td>\n",
       "      <td>8</td>\n",
       "      <td>0</td>\n",
       "      <td>0</td>\n",
       "      <td>0</td>\n",
       "      <td>0</td>\n",
       "      <td>0</td>\n",
       "      <td>0</td>\n",
       "      <td>0</td>\n",
       "    </tr>\n",
       "    <tr>\n",
       "      <th>4</th>\n",
       "      <td>8841186448183</td>\n",
       "      <td>5642494</td>\n",
       "      <td>56</td>\n",
       "      <td>0</td>\n",
       "      <td>1</td>\n",
       "      <td>1</td>\n",
       "      <td>0</td>\n",
       "      <td>0</td>\n",
       "      <td>0</td>\n",
       "      <td>0</td>\n",
       "    </tr>\n",
       "  </tbody>\n",
       "</table>\n",
       "</div>"
      ],
      "text/plain": [
       "         PatientId  AppointmentID  Age  Scholarship  Hypertension  Diabetes  \\\n",
       "0   29872499824296        5642903   62            0             1         0   \n",
       "1  558997776694438        5642503   56            0             0         0   \n",
       "2    4262962299951        5642549   62            0             0         0   \n",
       "3     867951213174        5642828    8            0             0         0   \n",
       "4    8841186448183        5642494   56            0             1         1   \n",
       "\n",
       "   Alcoholism  Handicap  SMS_received  Gender  \n",
       "0           0         0             0       0  \n",
       "1           0         0             0       1  \n",
       "2           0         0             0       0  \n",
       "3           0         0             0       0  \n",
       "4           0         0             0       0  "
      ]
     },
     "execution_count": 144,
     "metadata": {},
     "output_type": "execute_result"
    }
   ],
   "source": [
    "#Let split our features and target variables medical reporting data\n",
    "target = Med_data_df[['NoShowUp']]\n",
    "features = Med_data_df.drop(['ScheduledDay','AppointmentDay','NoShowUp', 'Age_class', 'Neighbourhood'], axis=1)\n",
    "\n",
    "features['Gender'] = features['Gender'].astype(int)\n",
    "features['PatientId'] = features['PatientId'].astype(int)\n",
    "#features['ScheduledDay'] = features['ScheduledDay'].astype(int)\n",
    "#features['AppointmentDay'] = features['AppointmentDay'].astype(int)\n",
    "features.head()"
   ]
  },
  {
   "cell_type": "markdown",
   "metadata": {},
   "source": [
    "### Feature Selection and Data transformation \n",
    "Feature selection is a process where you automatically select those features in your data that contribute most to the prediction variable or output in which you are interested. The benefits of Feature selection are _reduces overfitting, improves accuracy, reduce training time_<br>\n",
    "Many machine learning algorithms can benefit from rescaling the attributes to all have the same scale. This is useful when we are using weight input algorithms like regressions. I am going to use `Biniarizer` rescle method from scikit `sklearn.preprocessing` class"
   ]
  },
  {
   "cell_type": "code",
   "execution_count": 145,
   "metadata": {
    "collapsed": false
   },
   "outputs": [
    {
     "name": "stdout",
     "output_type": "stream",
     "text": [
      "Num Features: 5\n",
      "Selected Features: [ True  True  True False  True False False False False  True]\n",
      "Feature Ranking: [1 1 1 3 1 4 5 6 2 1]\n"
     ]
    }
   ],
   "source": [
    "from sklearn.feature_selection import RFE, SelectKBest, chi2\n",
    "\n",
    "#feature selection\n",
    "model = LogisticRegression()\n",
    "rfe = RFE(model, 5)\n",
    "fit = rfe.fit(features, target)\n",
    "\n",
    "print(\"Num Features: %d\") % fit.n_features_\n",
    "print(\"Selected Features: %s\") % fit.support_\n",
    "print(\"Feature Ranking: %s\") % fit.ranking_\n",
    "#select_features = SelectKBest(score_func=chi2, k=4 )\n",
    "#print select_features[0:5, :]"
   ]
  },
  {
   "cell_type": "code",
   "execution_count": 153,
   "metadata": {
    "collapsed": false
   },
   "outputs": [
    {
     "name": "stdout",
     "output_type": "stream",
     "text": [
      "[[1 1 1 0 1 0 0 0 0 0]\n",
      " [1 1 1 0 0 0 0 0 0 1]\n",
      " [1 1 1 0 0 0 0 0 0 0]\n",
      " [1 1 1 0 0 0 0 0 0 0]\n",
      " [1 1 1 0 1 1 0 0 0 0]]\n"
     ]
    }
   ],
   "source": [
    "from sklearn.preprocessing import Binarizer\n",
    "\n",
    "#Standarize the features\n",
    "\n",
    "biniarizer_feature = Binarizer(threshold=0).fit(features)\n",
    "binaryX = biniarizer_feature.transform(features)\n",
    "\n",
    "pd.set_option('precision', 3)\n",
    "print(binaryX[0:5,:])"
   ]
  },
  {
   "cell_type": "code",
   "execution_count": 173,
   "metadata": {
    "collapsed": false
   },
   "outputs": [
    {
     "name": "stdout",
     "output_type": "stream",
     "text": [
      "LR: 80.000000 (2.000000)\n",
      "KNN: 79.000000 (2.000000)\n",
      "DT: 80.000000 (2.000000)\n",
      "NB: 79.000000 (2.000000)\n",
      "RF: 80.000000 (2.000000)\n"
     ]
    }
   ],
   "source": [
    "## split-out validation dataset\n",
    "#X_train, X_test, Y_train, Y_test =  train_test_split(binaryX, target, test_size=0.3, random_state=11)\n",
    "\n",
    "from math import ceil \n",
    "#test option and evaluation metrics\n",
    "num_fold=5\n",
    "scoring = 'accuracy'\n",
    "\n",
    "#spot checking algorithms\n",
    "models = []\n",
    "\n",
    "models.append(('LR', LogisticRegression()))\n",
    "models.append(('KNN', KNeighborsClassifier()))\n",
    "models.append(('DT', DecisionTreeClassifier()))\n",
    "models.append(('NB', GaussianNB()))\n",
    "models.append(('RF', RandomForestClassifier()))\n",
    "\n",
    "#Evaluate algorithm using \n",
    "results = []\n",
    "names = []\n",
    "\n",
    "pd.set_option('precision', 3)\n",
    "for name, model in models:\n",
    "    kfold = KFold(n_splits=num_fold, random_state=11)\n",
    "    cv_results = cross_val_score(model, binaryX, target, cv=kfold, scoring=scoring)\n",
    "    results.append(cv_results)\n",
    "    names.append(name)\n",
    "    print \"%s: %f (%f)\" % (name, ceil(cv_results.mean()*100), ceil(cv_results.std()*100))\n",
    "    "
   ]
  },
  {
   "cell_type": "code",
   "execution_count": 174,
   "metadata": {
    "collapsed": false
   },
   "outputs": [
    {
     "data": {
      "image/png": "[encoded data removed]",
      "text/plain": [
       "<matplotlib.figure.Figure at 0x7fa57e57d910>"
      ]
     },
     "metadata": {},
     "output_type": "display_data"
    }
   ],
   "source": [
    "#compare ML algorithms\n",
    "fig = plt.figure(figsize=(12,8))\n",
    "fig.suptitle('Compare ML Algorithms')\n",
    "ax = fig.add_subplot(1,1,1)\n",
    "plt.boxplot(results)\n",
    "ax.set_xticklabels(names)\n",
    "plt.show()"
   ]
  },
  {
   "cell_type": "markdown",
   "metadata": {},
   "source": [
    "## Improve Performance Logistic Regression with Tuning Hyperparameter\n",
    "Machine learning models are parameterized so that their behavior can be tuned for a given problem. Models can have many parameters and finding the best combination of parameters can be treated as a search problem. In this case I will use `GridSearchCV` for selecting best parameters for our model."
   ]
  },
  {
   "cell_type": "code",
   "execution_count": 176,
   "metadata": {
    "collapsed": false
   },
   "outputs": [
    {
     "name": "stdout",
     "output_type": "stream",
     "text": [
      "Best_Score: 0.797926791438, Best_Parameter {'C': 0.0001}\n"
     ]
    }
   ],
   "source": [
    "#Algorithm Tuning of Logistic regression (LR)\n",
    "scoring = 'accuracy'\n",
    "\n",
    "#Basically smaller C specify stronger regularization.\n",
    "param_grid = {'C':[0.0001, 0.001, 0.01, 0.1, 1, 10, 100, 1000]}\n",
    "clf_grid = GridSearchCV(LogisticRegression(penalty='l1'), param_grid=param_grid, scoring='accuracy', cv=kfold)\n",
    "clf_grid_result = clf_grid.fit(binaryX, Y_train)\n",
    "\n",
    "print \"Best_Score: {}, Best_Parameter {}\".format(clf_grid.best_score_, clf_grid.best_params_)"
   ]
  },
  {
   "cell_type": "code",
   "execution_count": null,
   "metadata": {
    "collapsed": true
   },
   "outputs": [],
   "source": []
  }
 ],
 "metadata": {
  "anaconda-cloud": {},
  "kernelspec": {
   "display_name": "Python [default]",
   "language": "python",
   "name": "python2"
  },
  "language_info": {
   "codemirror_mode": {
    "name": "ipython",
    "version": 2
   },
   "file_extension": ".py",
   "mimetype": "text/x-python",
   "name": "python",
   "nbconvert_exporter": "python",
   "pygments_lexer": "ipython2",
   "version": "2.7.12"
  }
 },
 "nbformat": 4,
 "nbformat_minor": 1
}
